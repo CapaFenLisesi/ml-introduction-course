{
 "cells": [
  {
   "cell_type": "markdown",
   "metadata": {
    "collapsed": false
   },
   "source": [
    "# Class 10\n",
    "## ML Techniques: Feature scaling\n",
    "\n",
    "Another aspect of optimizing machine learnin\n",
    "\n",
    "Here's a nice tutorial to start with: http://sebastianraschka.com/Articles/2014_about_feature_scaling.html\n",
    "\n",
    "\n",
    "General Outline\n",
    "\n",
    "* Feature Scaling\n",
    "    * Dealing with multi-dimensional data with different data types\n",
    "    * Scaling to the mean/standard deviation\n",
    "    * Scaling to max/min/spread"
   ]
  }
 ],
 "metadata": {
  "kernelspec": {
   "display_name": "Anaconda (Python 3)",
   "language": "python",
   "name": "anaconda3"
  },
  "language_info": {
   "codemirror_mode": {
    "name": "ipython",
    "version": 3
   },
   "file_extension": ".py",
   "mimetype": "text/x-python",
   "name": "python",
   "nbconvert_exporter": "python",
   "pygments_lexer": "ipython3",
   "version": "3.5.2"
  }
 },
 "nbformat": 4,
 "nbformat_minor": 0
}
