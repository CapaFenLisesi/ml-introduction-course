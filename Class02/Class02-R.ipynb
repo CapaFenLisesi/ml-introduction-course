{
 "cells": [
  {
   "cell_type": "markdown",
   "metadata": {
    "collapsed": false
   },
   "source": [
    "# Class 02\n",
    "## Machine Learning Models: Linear regression & Validation\n",
    "\n",
    "We are going to cover two main topics in this class: **Linear Regressions** and **Validation**. We need to start with a broader question, though.\n",
    "\n",
    "## What is Machine Learning?\n",
    "\n",
    "The goal this semester is to use machine learning to teach the computer how to make predictions. So we'll start with my definitions of machine learning -- in particular of supervised machine learning. We are using a programming algorithm that gives the computer the tools it needs to identify patterns in a set of data. Once we have those patterns, we can use them to make predictions - what we would expect should happen if we gather more data that may not necessarily be exactly the same as the data we learned from.\n",
    "\n",
    "We'll start by looking at a very simple set of fake data that will help us cover the key ideas. Suppose that we just collected four data points. I've manually input them (as opposed to using a CSV file). Execute the following cell to see what the data look like."
   ]
  },
  {
   "cell_type": "code",
   "execution_count": 1,
   "metadata": {
    "collapsed": false
   },
   "outputs": [
    {
     "data": {
      "image/png": "[encoded data removed]",
      "text/plain": [
       "plot without title"
      ]
     },
     "metadata": {},
     "output_type": "display_data"
    }
   ],
   "source": [
    "fakedata1 <- data.frame(input=c(0.862, 0.694, 0.184, 0.41), output= c(2.264, 1.847, 0.705,1.246 ))\n",
    "\n",
    "plot(output~input,fakedata1)"
   ]
  },
  {
   "cell_type": "markdown",
   "metadata": {},
   "source": [
    "It is pretty clear that there is a linear trend here. If I wanted to predict what would happen if we tried the input of `x=0.6`, it would be a good guess to pick something like `y=1.6` or so. Training the computer to do this is what we mean by _Machine Learning_. \n",
    "\n",
    "To formalize this a little bit, it consists of four steps:\n",
    "\n",
    "1. We start with relevant historical data. This is our input to the machine learning algorithm.\n",
    "2. Choose an algorithm. There are a number of possibilities that we will cover over the course of the semester.\n",
    "3. Train the model. This is where the computer learns the pattern.\n",
    "4. Test the model. We now have to check to see how well the model works.\n",
    "\n",
    "We then refine the model and repeat the process until we are happy with the results.\n",
    "\n",
    "### The Testing Problem\n",
    "\n",
    "There is a bit of a sticky point here. If we use our data to train the computer, what do we use to test the model to see how good it is? If we use the same data to test the model we will, most likely, get fantastic results! After all, we used that data to train the model, so it should (if the model worked at all) do a great job of predicting the results.\n",
    "\n",
    "However, this doesn't tell us anything about how well the model will work with a _**new**_ data point. Even if we get a new data point, we won't necessarily know what it is _supposed_ to be, so we won't know how well the model is working. There is a way around all of this that works reasonably well. What we will do is set aside a part of our historical data as \"test\" data. We won't use that data to train the model. Instead, we will use it to test the model to see how well it works. This gives us a good idea of how the model will work with new data points. As a rule of thumb, we want to reserve about 20% of our data set as testing data.\n",
    "\n",
    "We will use a compound command to sample the data. It will provide a random sample of 80% of the rows and this is how it works:\n",
    "\n",
    "* `sample()` takes a list of numbers corresponding to each row in the data frame as the first argument and how many to select as the second argument.\n",
    "* `seq()` creates a sequence starting with zero and going to the number provided as the argument\n",
    "* `nrow()` returns the number of rows in the dataframe.\n",
    "\n",
    "This gives us a random sample of 80% of the rows in the data frame. We then index the data frame twice: once to give us the training rows, and a second time using `-trainIndex` to give us the other rows as the training rows.\n",
    "\n",
    "Finally, we plot the train and test sets with different colors to see which points were selected."
   ]
  },
  {
   "cell_type": "code",
   "execution_count": 2,
   "metadata": {
    "collapsed": false
   },
   "outputs": [
    {
     "data": {
      "image/png": "[encoded data removed]",
      "text/plain": [
       "plot without title"
      ]
     },
     "metadata": {},
     "output_type": "display_data"
    }
   ],
   "source": [
    "set.seed(23)\n",
    "\n",
    "trainIndex <- sample(seq(nrow(fakedata1)), nrow(fakedata1)*0.8)\n",
    "\n",
    "faketrain1 <- fakedata1[trainIndex, ]\n",
    "faketest1 <- fakedata1[-trainIndex, ]\n",
    "\n",
    "plot(faketrain1,col='red')\n",
    "points(faketest1,col=\"green\")\n"
   ]
  },
  {
   "cell_type": "markdown",
   "metadata": {},
   "source": [
    "You can see that, with a 20% split, our small fake dataset doesn't have very many points. Really we shouldn't be working with less than 100 points for anything we do. Any fewer than that and the statistics just start breaking. Ideally we'd have tens of millions of data points. We'll talk later about how to get that much data, but we'll start small for now. We'll load in the `Class02_fakedata2.csv` file and split it 80/20 training/testing datasets."
   ]
  },
  {
   "cell_type": "code",
   "execution_count": 3,
   "metadata": {
    "collapsed": false
   },
   "outputs": [
    {
     "data": {
      "image/png": "[encoded data removed]",
      "text/plain": [
       "plot without title"
      ]
     },
     "metadata": {},
     "output_type": "display_data"
    }
   ],
   "source": [
    "fakedata2 <- read.csv('Class02_fakedata2.csv')\n",
    "\n",
    "trainIndex <- sample(seq(nrow(fakedata2)), nrow(fakedata2)*0.8)\n",
    "\n",
    "faketrain2 <- fakedata2[trainIndex, ]\n",
    "faketest2 <- fakedata2[-trainIndex, ]\n",
    "\n",
    "plot(faketrain2,col='red')\n",
    "points(faketest2,col=\"green\")\n",
    "\n"
   ]
  },
  {
   "cell_type": "markdown",
   "metadata": {},
   "source": [
    "# Linear Regression\n",
    "\n",
    "We are now ready to train our linear model on the training part of this data. Remember that, from this point forward, we must \"lock\" the testing data and not use it to train our models. We do this using the `lm()` function in `R`. It takes a `formula` as the first argument: we've seen this before using the `plot()` function. It is the same form: `dependent ~ independent` variables.\n",
    "\n",
    "Let's take a quick look at the data to make sure we know what we're looking for in terms of column names."
   ]
  },
  {
   "cell_type": "code",
   "execution_count": 4,
   "metadata": {
    "collapsed": false
   },
   "outputs": [
    {
     "data": {
      "text/html": [
       "<table>\n",
       "<thead><tr><th></th><th scope=col>input</th><th scope=col>output</th></tr></thead>\n",
       "<tbody>\n",
       "\t<tr><th scope=row>72</th><td>0.329</td><td>1.052</td></tr>\n",
       "\t<tr><th scope=row>82</th><td>0.492</td><td>1.392</td></tr>\n",
       "\t<tr><th scope=row>42</th><td>0.531</td><td>1.422</td></tr>\n",
       "\t<tr><th scope=row>94</th><td>0.677</td><td>1.801</td></tr>\n",
       "\t<tr><th scope=row>97</th><td>0.539</td><td>1.463</td></tr>\n",
       "\t<tr><th scope=row>80</th><td>0.682</td><td>1.854</td></tr>\n",
       "</tbody>\n",
       "</table>\n"
      ],
      "text/latex": [
       "\\begin{tabular}{r|ll}\n",
       "  & input & output\\\\\n",
       "\\hline\n",
       "\t72 & 0.329 & 1.052\\\\\n",
       "\t82 & 0.492 & 1.392\\\\\n",
       "\t42 & 0.531 & 1.422\\\\\n",
       "\t94 & 0.677 & 1.801\\\\\n",
       "\t97 & 0.539 & 1.463\\\\\n",
       "\t80 & 0.682 & 1.854\\\\\n",
       "\\end{tabular}\n"
      ],
      "text/markdown": [
       "\n",
       "| <!--/--> | input | output | \n",
       "|---|---|---|---|---|---|\n",
       "| 72 | 0.329 | 1.052 | \n",
       "| 82 | 0.492 | 1.392 | \n",
       "| 42 | 0.531 | 1.422 | \n",
       "| 94 | 0.677 | 1.801 | \n",
       "| 97 | 0.539 | 1.463 | \n",
       "| 80 | 0.682 | 1.854 | \n",
       "\n",
       "\n"
      ],
      "text/plain": [
       "   input output\n",
       "72 0.329 1.052 \n",
       "82 0.492 1.392 \n",
       "42 0.531 1.422 \n",
       "94 0.677 1.801 \n",
       "97 0.539 1.463 \n",
       "80 0.682 1.854 "
      ]
     },
     "metadata": {},
     "output_type": "display_data"
    }
   ],
   "source": [
    "head(faketrain2)"
   ]
  },
  {
   "cell_type": "markdown",
   "metadata": {},
   "source": [
    "We now make the linear model. We also look at the model output using the `summary()` command. This gives us the intercept and the slope of the `input` column line under the `Estimate` heading."
   ]
  },
  {
   "cell_type": "code",
   "execution_count": 5,
   "metadata": {
    "collapsed": false
   },
   "outputs": [
    {
     "data": {
      "text/plain": [
       "\n",
       "Call:\n",
       "lm(formula = output ~ input, data = faketrain2)\n",
       "\n",
       "Residuals:\n",
       "      Min        1Q    Median        3Q       Max \n",
       "-0.083326 -0.029887  0.001852  0.024274  0.098175 \n",
       "\n",
       "Coefficients:\n",
       "            Estimate Std. Error t value Pr(>|t|)    \n",
       "(Intercept) 0.296993   0.008756   33.92   <2e-16 ***\n",
       "input       2.275580   0.015114  150.57   <2e-16 ***\n",
       "---\n",
       "Signif. codes:  0 '***' 0.001 '**' 0.01 '*' 0.05 '.' 0.1 ' ' 1\n",
       "\n",
       "Residual standard error: 0.03946 on 78 degrees of freedom\n",
       "Multiple R-squared:  0.9966,\tAdjusted R-squared:  0.9965 \n",
       "F-statistic: 2.267e+04 on 1 and 78 DF,  p-value: < 2.2e-16\n"
      ]
     },
     "metadata": {},
     "output_type": "display_data"
    }
   ],
   "source": [
    "linearmodel <- lm(output ~ input, faketrain2)\n",
    "summary(linearmodel)"
   ]
  },
  {
   "cell_type": "markdown",
   "metadata": {},
   "source": [
    "That doesn't really tell us much. It would be better if we could compare the model to the test data. We will use the inputs from the test data and run them through the model. It will predict what the outputs should be. We can then compare them to the actual outputs. We'll plot the predictions as a line (since they will all lie on the same line due to our model being a linear regression)."
   ]
  },
  {
   "cell_type": "code",
   "execution_count": 6,
   "metadata": {
    "collapsed": false
   },
   "outputs": [
    {
     "data": {
      "image/png": "[encoded data removed]",
      "text/plain": [
       "plot without title"
      ]
     },
     "metadata": {},
     "output_type": "display_data"
    }
   ],
   "source": [
    "plot(faketest2, pch=15, col=\"blue\")\n",
    "abline(linearmodel,col=\"red\")\n",
    "\n",
    "# Add a legend\n",
    "legend(0,2.4, # places a legend at the appropriate place\n",
    "       c(\"Data\",\"Linear Fit\"), # puts text in the legend\n",
    "       lty=c(0,1), # gives the legend appropriate symbols (lines)\n",
    "       pch=c(15,NA), # Sets the symbol correctly for the point and line\n",
    "       col=c(\"blue\",\"red\")) # gives the legend lines the correct color and width"
   ]
  },
  {
   "cell_type": "markdown",
   "metadata": {},
   "source": [
    "Now we can make actual predictions on the `faketest2` data using the `predict()` function. It takes the model and the test data (in the same format as the training data) and returns its predictions for the `y` values given the `x` values. We plot the residuals (`predictions - actuals`) which should be randomly scattered around zero."
   ]
  },
  {
   "cell_type": "code",
   "execution_count": 7,
   "metadata": {
    "collapsed": false
   },
   "outputs": [
    {
     "data": {
      "image/png": "[encoded data removed]",
      "text/plain": [
       "plot without title"
      ]
     },
     "metadata": {},
     "output_type": "display_data"
    }
   ],
   "source": [
    "predictions <- predict(linearmodel, faketest2)\n",
    "actuals <- faketest2$output\n",
    "plot(faketest2$input, (predictions - actuals), ylab=\"Residuals\", xlab=\"input\") \n",
    "abline(0, 0) # the zero line for reference"
   ]
  },
  {
   "cell_type": "markdown",
   "metadata": {},
   "source": [
    "This looks pretty good. We can go one step futher and define a quantitative measure of the quality of the fit. We will subtract the difference between the prediction and the actual value for each point. We then square all of those and average them.  Finally we take the square root of all of that. This is known as the RMS error (for Root Mean Squared)."
   ]
  },
  {
   "cell_type": "code",
   "execution_count": 8,
   "metadata": {
    "collapsed": false
   },
   "outputs": [
    {
     "name": "stdout",
     "output_type": "stream",
     "text": [
      "[1] \"RMS Error: 0.0340454453405506\"\n"
     ]
    }
   ],
   "source": [
    "print(paste(\"RMS Error:\", sqrt(mean((predictions-actuals)^2))))"
   ]
  },
  {
   "cell_type": "markdown",
   "metadata": {},
   "source": [
    "# Using Multiple Inputs\n",
    "\n",
    "We'll now move to a real-world data set (which means it is messy). We'll load in the diabetes data set from Class 01 and try training it. Our input will be the 'BMI' feature and the output is the 'Target' column.\n"
   ]
  },
  {
   "cell_type": "code",
   "execution_count": 9,
   "metadata": {
    "collapsed": false
   },
   "outputs": [
    {
     "data": {
      "text/html": [
       "<table>\n",
       "<thead><tr><th scope=col>Age</th><th scope=col>Sex</th><th scope=col>BMI</th><th scope=col>BP</th><th scope=col>TC</th><th scope=col>LDL</th><th scope=col>HDL</th><th scope=col>TCH</th><th scope=col>LTG</th><th scope=col>GLU</th><th scope=col>Target</th></tr></thead>\n",
       "<tbody>\n",
       "\t<tr><td> 0.038075906</td><td> 0.05068012 </td><td> 0.06169621 </td><td> 0.021872355</td><td>-0.044223498</td><td>-0.03482076 </td><td>-0.043400846</td><td>-0.002592262</td><td> 0.019908421</td><td>          NA</td><td>151         </td></tr>\n",
       "\t<tr><td>-0.001882017</td><td>-0.04464164 </td><td>-0.05147406 </td><td>-0.026327835</td><td>-0.008448724</td><td>-0.01916334 </td><td> 0.074411564</td><td>-0.039493383</td><td>-0.068329744</td><td>-0.092204050</td><td> 75         </td></tr>\n",
       "\t<tr><td> 0.085298906</td><td> 0.05068012 </td><td> 0.04445121 </td><td>-0.005670611</td><td>-0.045599451</td><td>-0.03419447 </td><td>-0.032355932</td><td>-0.002592262</td><td> 0.002863771</td><td>-0.025930339</td><td>141         </td></tr>\n",
       "\t<tr><td>-0.089062939</td><td>-0.04464164 </td><td>-0.01159501 </td><td>-0.036656447</td><td> 0.012190569</td><td> 0.02499059 </td><td>-0.036037570</td><td> 0.034308859</td><td> 0.022692023</td><td>-0.009361911</td><td>206         </td></tr>\n",
       "\t<tr><td> 0.005383060</td><td>-0.04464164 </td><td>-0.03638469 </td><td> 0.021872355</td><td> 0.003934852</td><td> 0.01559614 </td><td> 0.008142084</td><td>-0.002592262</td><td>-0.031991445</td><td>-0.046640874</td><td>135         </td></tr>\n",
       "\t<tr><td>-0.092695478</td><td>-0.04464164 </td><td>-0.04069594 </td><td>-0.019442093</td><td>-0.068990650</td><td>-0.07928784 </td><td> 0.041276824</td><td>-0.076394504</td><td>-0.041180385</td><td>-0.096346157</td><td> 97         </td></tr>\n",
       "</tbody>\n",
       "</table>\n"
      ],
      "text/latex": [
       "\\begin{tabular}{r|lllllllllll}\n",
       " Age & Sex & BMI & BP & TC & LDL & HDL & TCH & LTG & GLU & Target\\\\\n",
       "\\hline\n",
       "\t  0.038075906 &  0.05068012  &  0.06169621  &  0.021872355 & -0.044223498 & -0.03482076  & -0.043400846 & -0.002592262 &  0.019908421 &           NA & 151         \\\\\n",
       "\t -0.001882017 & -0.04464164  & -0.05147406  & -0.026327835 & -0.008448724 & -0.01916334  &  0.074411564 & -0.039493383 & -0.068329744 & -0.092204050 &  75         \\\\\n",
       "\t  0.085298906 &  0.05068012  &  0.04445121  & -0.005670611 & -0.045599451 & -0.03419447  & -0.032355932 & -0.002592262 &  0.002863771 & -0.025930339 & 141         \\\\\n",
       "\t -0.089062939 & -0.04464164  & -0.01159501  & -0.036656447 &  0.012190569 &  0.02499059  & -0.036037570 &  0.034308859 &  0.022692023 & -0.009361911 & 206         \\\\\n",
       "\t  0.005383060 & -0.04464164  & -0.03638469  &  0.021872355 &  0.003934852 &  0.01559614  &  0.008142084 & -0.002592262 & -0.031991445 & -0.046640874 & 135         \\\\\n",
       "\t -0.092695478 & -0.04464164  & -0.04069594  & -0.019442093 & -0.068990650 & -0.07928784  &  0.041276824 & -0.076394504 & -0.041180385 & -0.096346157 &  97         \\\\\n",
       "\\end{tabular}\n"
      ],
      "text/markdown": [
       "\n",
       "Age | Sex | BMI | BP | TC | LDL | HDL | TCH | LTG | GLU | Target | \n",
       "|---|---|---|---|---|---|\n",
       "|  0.038075906 |  0.05068012  |  0.06169621  |  0.021872355 | -0.044223498 | -0.03482076  | -0.043400846 | -0.002592262 |  0.019908421 |           NA | 151          | \n",
       "| -0.001882017 | -0.04464164  | -0.05147406  | -0.026327835 | -0.008448724 | -0.01916334  |  0.074411564 | -0.039493383 | -0.068329744 | -0.092204050 |  75          | \n",
       "|  0.085298906 |  0.05068012  |  0.04445121  | -0.005670611 | -0.045599451 | -0.03419447  | -0.032355932 | -0.002592262 |  0.002863771 | -0.025930339 | 141          | \n",
       "| -0.089062939 | -0.04464164  | -0.01159501  | -0.036656447 |  0.012190569 |  0.02499059  | -0.036037570 |  0.034308859 |  0.022692023 | -0.009361911 | 206          | \n",
       "|  0.005383060 | -0.04464164  | -0.03638469  |  0.021872355 |  0.003934852 |  0.01559614  |  0.008142084 | -0.002592262 | -0.031991445 | -0.046640874 | 135          | \n",
       "| -0.092695478 | -0.04464164  | -0.04069594  | -0.019442093 | -0.068990650 | -0.07928784  |  0.041276824 | -0.076394504 | -0.041180385 | -0.096346157 |  97          | \n",
       "\n",
       "\n"
      ],
      "text/plain": [
       "  Age          Sex         BMI         BP           TC           LDL        \n",
       "1  0.038075906  0.05068012  0.06169621  0.021872355 -0.044223498 -0.03482076\n",
       "2 -0.001882017 -0.04464164 -0.05147406 -0.026327835 -0.008448724 -0.01916334\n",
       "3  0.085298906  0.05068012  0.04445121 -0.005670611 -0.045599451 -0.03419447\n",
       "4 -0.089062939 -0.04464164 -0.01159501 -0.036656447  0.012190569  0.02499059\n",
       "5  0.005383060 -0.04464164 -0.03638469  0.021872355  0.003934852  0.01559614\n",
       "6 -0.092695478 -0.04464164 -0.04069594 -0.019442093 -0.068990650 -0.07928784\n",
       "  HDL          TCH          LTG          GLU          Target\n",
       "1 -0.043400846 -0.002592262  0.019908421           NA 151   \n",
       "2  0.074411564 -0.039493383 -0.068329744 -0.092204050  75   \n",
       "3 -0.032355932 -0.002592262  0.002863771 -0.025930339 141   \n",
       "4 -0.036037570  0.034308859  0.022692023 -0.009361911 206   \n",
       "5  0.008142084 -0.002592262 -0.031991445 -0.046640874 135   \n",
       "6  0.041276824 -0.076394504 -0.041180385 -0.096346157  97   "
      ]
     },
     "metadata": {},
     "output_type": "display_data"
    }
   ],
   "source": [
    "diabetes <- read.csv('../Class01/Class01_diabetes_data.csv')\n",
    "head(diabetes)"
   ]
  },
  {
   "cell_type": "markdown",
   "metadata": {},
   "source": [
    "I've put all the steps together in one cell and commented on each step."
   ]
  },
  {
   "cell_type": "code",
   "execution_count": 10,
   "metadata": {
    "collapsed": false
   },
   "outputs": [
    {
     "name": "stdout",
     "output_type": "stream",
     "text": [
      "[1] \"RMS Error: 58.1900924435969\"\n"
     ]
    },
    {
     "data": {
      "image/png": "[encoded data removed]",
      "text/plain": [
       "plot without title"
      ]
     },
     "metadata": {},
     "output_type": "display_data"
    }
   ],
   "source": [
    "# Step 1: Split off the test data\n",
    "trainIndex <- sample(seq(nrow(diabetes)), nrow(diabetes)*0.8)\n",
    "\n",
    "dia_train <- diabetes[trainIndex, ]\n",
    "dia_test <- diabetes[-trainIndex, ]\n",
    "\n",
    "# Step 2: Fit the model\n",
    "dia_model <- lm(Target~BMI, dia_train)\n",
    "\n",
    "# Step 3: Get the predictions\n",
    "predictions <- predict(dia_model,dia_test)\n",
    "actuals <- dia_test$Target\n",
    "\n",
    "# Step 4: Plot the results\n",
    "plot(dia_test$BMI,dia_test$Target, pch=15, col=\"blue\", xlab=\"BMI\",  ylab=\"Target\")\n",
    "abline(dia_model,col=\"red\")\n",
    "\n",
    "# Add a legend\n",
    "legend(0,2.4, # places a legend at the appropriate place\n",
    "       c(\"Data\",\"Linear Fit\"), # puts text in the legend\n",
    "       lty=c(0,1), # gives the legend appropriate symbols (lines)\n",
    "       pch=c(15,NA), # Sets the symbol correctly for the point and line\n",
    "       col=c(\"blue\",\"red\")) # gives the legend lines the correct color and width\n",
    "\n",
    "# Step 7: Get the RMS value\n",
    "print(paste(\"RMS Error:\",sqrt(mean((predictions-actuals)^2))))"
   ]
  },
  {
   "cell_type": "markdown",
   "metadata": {},
   "source": [
    "Not too surprising that the RMS error isn't very good. This is the real world after all. However, we saw in Class 01 that there may be some dependence on some of the other variables like the LDL. We can try a linear regression with both of them as inputs. I have to change the code a little to do this. Compare this with the previous cell to see what needs to change.\n",
    "\n",
    "In order to make the linear model easier to change, we will create the formula first using a couple of extra tools:\n",
    "\n",
    "1. `paste(... collapse='+')` This will put all of our columns into a string separated by \"+\" signs\n",
    "2. `as.formula()` This converts our string of instructions into an `R`-style formula for use by the `lm()` function\n"
   ]
  },
  {
   "cell_type": "code",
   "execution_count": 11,
   "metadata": {
    "collapsed": false
   },
   "outputs": [
    {
     "name": "stdout",
     "output_type": "stream",
     "text": [
      "[1] \"RMS Error: 58.5649185697744\"\n"
     ]
    },
    {
     "data": {
      "image/png": "[encoded data removed]",
      "text/plain": [
       "plot without title"
      ]
     },
     "metadata": {},
     "output_type": "display_data"
    }
   ],
   "source": [
    "# Step 2: Create linear regression object\n",
    "inputcolumns <- c('BMI', 'HDL')\n",
    "lmformula <- as.formula(paste('Target ~',paste(inputcolumns, collapse='+')))\n",
    "\n",
    "# Step 2: Fit the model\n",
    "dia_model2 <- lm(lmformula, dia_train)\n",
    "\n",
    "# Step 3: Get the predictions\n",
    "predictions <- predict(dia_model2,dia_test)\n",
    "actuals <- dia_test$Target\n",
    "\n",
    "# Step 4: Plot the results\n",
    "plot(dia_test$BMI,actuals, pch=15, col=\"blue\", xlab=\"BMI\",  ylab=\"Target\")\n",
    "\n",
    "points(dia_test$BMI,predictions, pch=15, col=\"red\", xlab=\"BMI\",  ylab=\"Target\")\n",
    "\n",
    "# Add a legend\n",
    "legend(0,2.4, # places a legend at the appropriate place\n",
    "       c(\"Actuals\",\"Predictions\"), # puts text in the legend\n",
    "       pch=c(15,15), # Sets the symbol correctly for the point and line\n",
    "       col=c(\"blue\",\"red\")) # gives the legend lines the correct color and width\n",
    "\n",
    "# Step 7: Get the RMS value\n",
    "print(paste(\"RMS Error:\",sqrt(mean((predictions-actuals)^2))))"
   ]
  },
  {
   "cell_type": "markdown",
   "metadata": {},
   "source": [
    "## In-class Activity\n",
    "\n",
    "Try adding columns to the inputcolumns variable and see how that changes the RMS error. Some of the columns reduce the error significantly. If we use all of them, we reduce our RMS error by about 15%."
   ]
  },
  {
   "cell_type": "markdown",
   "metadata": {},
   "source": [
    "# Assignment\n",
    "\n",
    "Your assignment is to try a linear regression on your own data set. Try adjusting the number of features you use to see if it improves your fit."
   ]
  }
 ],
 "metadata": {
  "kernelspec": {
   "display_name": "R",
   "language": "R",
   "name": "ir"
  },
  "language_info": {
   "codemirror_mode": "r",
   "file_extension": ".r",
   "mimetype": "text/x-r-source",
   "name": "R",
   "pygments_lexer": "r",
   "version": "3.3.2"
  }
 },
 "nbformat": 4,
 "nbformat_minor": 0
}
