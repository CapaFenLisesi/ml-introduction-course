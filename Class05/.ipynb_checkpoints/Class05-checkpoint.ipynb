{
 "cells": [
  {
   "cell_type": "markdown",
   "metadata": {
    "collapsed": false
   },
   "source": [
    "# Class 05\n",
    "## Big Data Enrichment: Joining and Grouping data\n",
    "\n",
    "One of the skills in working with data is to pull multiple data sets together. There are often features we would like to use in training our machine learning model that aren't necessarily in the dataset we have in front of us. For example, we may be looking at attendance figures at baseball games, trying to predict what they will be for future games. However, we only have team statistics. The attendance certainly depends on the weather at the stadium (or in the city) on the day of a game. So we would like to be able to gather the weather data and add it to our model. We'll go through how to do something like that."
   ]
  },
  {
   "cell_type": "markdown",
   "metadata": {},
   "source": [
    "### First Dataset\n",
    "\n",
    "We start with data from the [Iowa open database of class \"E\" liquor licencee purchases](https://data.iowa.gov/Economy/Iowa-Liquor-Sales/m3tr-qhgy/data). I have filtered the data to include data from 10/1/2016 to 12/31/2016. I have also added up the sales for each day to each store. "
   ]
  },
  {
   "cell_type": "code",
   "execution_count": null,
   "metadata": {
    "collapsed": false
   },
   "outputs": [],
   "source": [
    "import pandas as pd\n",
    "iowadf= pd.read_csv(\"Class05_iowa_data.csv\")\n",
    "iowadf.head()"
   ]
  },
  {
   "cell_type": "code",
   "execution_count": null,
   "metadata": {
    "collapsed": false
   },
   "outputs": [],
   "source": [
    "# The sales data looks like it isn't a float like we want it to be (the presence of a $ in front is my clue that there may be something wrong.) Let's look at the data types to be sure.\n",
    "iowadf.dtypes"
   ]
  },
  {
   "cell_type": "code",
   "execution_count": null,
   "metadata": {
    "collapsed": false
   },
   "outputs": [],
   "source": [
    "# Sure enough. We need to get the real values from that column. We'll create a new column for that data and use the regex parser to get the number.\n",
    "iowadf['SalesToStore'] = iowadf['Total Sales to Store (Dollars)'].str.extract(\"\\$(.*)\", expand=True)\n",
    "# We also need to convert the output to a float.\n",
    "iowadf['SalesToStore'] = iowadf['SalesToStore'].astype(float)\n",
    "print(iowadf.dtypes)\n",
    "iowadf.head()"
   ]
  },
  {
   "cell_type": "code",
   "execution_count": null,
   "metadata": {
    "collapsed": false
   },
   "outputs": [],
   "source": [
    "# We also need to convert the date. We'll try this and see if it parses the date correctly.\n",
    "iowadf[\"SalesDate\"] = pd.to_datetime(iowadf[\"Date\"])\n",
    "print(iowadf.dtypes)\n",
    "iowadf.head()"
   ]
  },
  {
   "cell_type": "code",
   "execution_count": null,
   "metadata": {
    "collapsed": false
   },
   "outputs": [],
   "source": [
    "# Let's do a bit more data exploration here to see if there are any other issues. For example, let's see if there are any NA values in the dataframe. That may indicate a problem. We'll first check the entire dataframe.\n",
    "# This looks for any null value then combines them together. It will only be true if there are any null values.\n",
    "iowadf.isnull().values.any()"
   ]
  },
  {
   "cell_type": "code",
   "execution_count": null,
   "metadata": {
    "collapsed": false
   },
   "outputs": [],
   "source": [
    "#Let's see how many data points have null values. We'll look at the total rows and \n",
    "print(\"Initial rows: {}\".format(len(iowadf.index)))\n",
    "iowadfcl = iowadf.dropna()\n",
    "print(\"Cleaned rows: {}\".format(len(iowadfcl.index)))\n",
    "iowadfcl.isnull().values.any()"
   ]
  },
  {
   "cell_type": "markdown",
   "metadata": {},
   "source": [
    "We only lose 25 rows out of 13,000. I'm going to go with that- it simplifies further computations.\n",
    "\n",
    "## Grouping and subsetting data\n",
    "\n",
    "We now want to narrow down the data in order to make it easier to work with joining datasets. Let's get the top-purchasing store and use just that store for our further work. We first need to do an analysis step: we want to add up all the sales for each store. In other words, we want to group by store, then sum up the StoreSales. \n",
    "\n",
    "The first step is to use the `groupby()` function to group the data into sections that all have something in common. For our case, we will group by the \"Store Number\". Pandas will go through that column, find all the unique values, then group them together and return a groupby object. We'll look at the first group to see what is in it."
   ]
  },
  {
   "cell_type": "code",
   "execution_count": null,
   "metadata": {
    "collapsed": false
   },
   "outputs": [],
   "source": [
    "storegroups = iowadfcl.groupby('Store Number')"
   ]
  },
  {
   "cell_type": "markdown",
   "metadata": {},
   "source": [
    "We now want the sum of all of the SalesToStore values in each group. We can do this easily since it is the only numerical value in the group. We apply the `sum()` function of the group to get the sum. There are a handful of other built-in functions. You can get a list of the functions by pressing the `<TAB>` key after typing `storesum.` Try it to see the list of functions. Documentation for these functions is [provided on the DataFrame document page](http://pandas.pydata.org/pandas-docs/stable/generated/pandas.DataFrame.html)."
   ]
  },
  {
   "cell_type": "code",
   "execution_count": null,
   "metadata": {
    "collapsed": false
   },
   "outputs": [],
   "source": [
    "storegroups"
   ]
  },
  {
   "cell_type": "markdown",
   "metadata": {},
   "source": [
    "### Sorting Data\n",
    "\n",
    "We want to see the stores with the largest purchases. To do this, we will sort the `SalesToStore` column in descending order (which puts the largest values at the top of the list). We use a pandas function `sort_values()` that takes the column name that you want to sort by as an argument. We also add the argument `ascending=False` to tell pandas to give us the results in descending order."
   ]
  },
  {
   "cell_type": "code",
   "execution_count": null,
   "metadata": {
    "collapsed": false
   },
   "outputs": [],
   "source": [
    "storesum = storegroups.sum()\n",
    "\n",
    "# Let's sort this list by the sales number in descending order:\n",
    "storelist = storesum.sort_values('SalesToStore',ascending=False)\n",
    "\n",
    "# And list the top stores:\n",
    "storelist.head()"
   ]
  },
  {
   "cell_type": "markdown",
   "metadata": {},
   "source": [
    "### Subsetting Data\n",
    "\n",
    "It looks like the store number 2633 purchased more liquor than any other store, so we want only that subset of the data. We subset the data by looking only for rows where the store number matches 2633. This returns a column of True/False values where the Store Number matches our store."
   ]
  },
  {
   "cell_type": "code",
   "execution_count": null,
   "metadata": {
    "collapsed": false
   },
   "outputs": [],
   "source": [
    "subsetrows = iowadfcl['Store Number']==2633\n",
    "subsetrows.head()"
   ]
  },
  {
   "cell_type": "markdown",
   "metadata": {},
   "source": [
    "We then index the dataframe based on those rows. We get a dataframe that only has data from the store we want."
   ]
  },
  {
   "cell_type": "code",
   "execution_count": null,
   "metadata": {
    "collapsed": false
   },
   "outputs": [],
   "source": [
    "topstoredf = iowadfcl[subsetrows]\n",
    "topstoredf.head()"
   ]
  },
  {
   "cell_type": "markdown",
   "metadata": {},
   "source": [
    "There is a lot of duplicated information here. We only really care about the SalesDate and the SalesToStore column. So we'll drop the other columns in this dataframe and assign it the same name (effectively dropping the columns)."
   ]
  },
  {
   "cell_type": "code",
   "execution_count": null,
   "metadata": {
    "collapsed": false
   },
   "outputs": [],
   "source": [
    "topstoredf = topstoredf.drop(['Date', 'Store Number', 'City', 'Zip Code', 'County', 'Total Sales to Store (Dollars)'], axis=1)"
   ]
  },
  {
   "cell_type": "markdown",
   "metadata": {},
   "source": [
    "We now want to sort the data by date so that it is listed in chronological order. We will use the `sort_values()` function (in place). We tell pandas which column to sort by."
   ]
  },
  {
   "cell_type": "code",
   "execution_count": null,
   "metadata": {
    "collapsed": false
   },
   "outputs": [],
   "source": [
    "topstoredf.sort_values('SalesDate',inplace=True)\n",
    "topstoredf.head()"
   ]
  },
  {
   "cell_type": "markdown",
   "metadata": {},
   "source": [
    "### Resetting the index\n",
    "\n",
    "We haven't really paid much attention to the pandas index column up to this point, but now we'll take a look at it. The far left column of our new dataframe contains the indices for the dataframe- note that they are neither ordered nor sequential. After subsetting and re-ordering the dataset, they are a mess! We can fix this by resetting the index of the dataframe. This is helpful when we want to move forward with a subset of data. We'll pass two parameters to the `reset_index()` function. The first tells pandas to change our dataframe (instead of creating a copy), the second tells pandas that we don't care about the old index and so we should drop it."
   ]
  },
  {
   "cell_type": "code",
   "execution_count": null,
   "metadata": {
    "collapsed": false
   },
   "outputs": [],
   "source": [
    "topstoredf.reset_index(inplace=True,drop=True)\n",
    "topstoredf.head()"
   ]
  },
  {
   "cell_type": "markdown",
   "metadata": {},
   "source": [
    "Before we move on, let's look at this data. It is always a good idea to have some idea of what the data look like!"
   ]
  },
  {
   "cell_type": "code",
   "execution_count": null,
   "metadata": {
    "collapsed": false
   },
   "outputs": [],
   "source": [
    "import matplotlib.pyplot as plt\n",
    "# We will plot the data values and set the linestyle to 'None' which will not plot the line. We also want to show the individual data points, so we set the marker.\n",
    "plt.plot(topstoredf['SalesDate'].values, topstoredf['SalesToStore'].values, linestyle='None', marker='o')\n",
    "# autofmt_xdate() tells the computer that it should treat the x-values as dates and format them appropriately. This is a figure function, so we use gcf() to \"get current figure\"\n",
    "plt.gcf().autofmt_xdate()"
   ]
  },
  {
   "cell_type": "markdown",
   "metadata": {},
   "source": [
    "### A Second dataset\n",
    "\n",
    "Now we need another dataset to work with. Let's try pulling the Dow Jones Industrial average index for each day. We'll download the data from [here](https://fred.stlouisfed.org/series/DJIA/downloaddata). We will also use a nice tool in the `read_csv()` function: it can parse a date column and put it in the appropriate datetime format all in one step."
   ]
  },
  {
   "cell_type": "code",
   "execution_count": null,
   "metadata": {
    "collapsed": false
   },
   "outputs": [],
   "source": [
    "djiadf = pd.read_csv('Class05_DJIA_data.csv',parse_dates=[0])\n",
    "print(djiadf.dtypes)\n",
    "djiadf.head()"
   ]
  },
  {
   "cell_type": "code",
   "execution_count": null,
   "metadata": {
    "collapsed": false
   },
   "outputs": [],
   "source": [
    "# We'll rename the second column to something a little more descriptive\n",
    "djiadf.rename(columns={'VALUE':'DowJonesAvg'},inplace=True)\n",
    "#Let's check for problems:\n",
    "djiadf.isnull().values.any()"
   ]
  },
  {
   "cell_type": "code",
   "execution_count": null,
   "metadata": {
    "collapsed": false
   },
   "outputs": [],
   "source": [
    "# Looks like there are two problem rows. Let's identify which rows by indexing the dataframe on the isnull() data\n",
    "djiadf[djiadf['DowJonesAvg'].isnull()]"
   ]
  },
  {
   "cell_type": "code",
   "execution_count": null,
   "metadata": {
    "collapsed": false
   },
   "outputs": [],
   "source": [
    "# These were both holidays and shouldn't be included in the data set anyway! We can drop them in place, modifying our dataframe.\n",
    "djiadf.dropna(inplace=True)\n",
    "djiadf.isnull().values.any()"
   ]
  },
  {
   "cell_type": "markdown",
   "metadata": {},
   "source": [
    "And, of course, let's plot it to see what it looks like."
   ]
  },
  {
   "cell_type": "code",
   "execution_count": null,
   "metadata": {
    "collapsed": false
   },
   "outputs": [],
   "source": [
    "# We will plot the data values and set the linestyle to 'None' which will not plot the line. We also want to show the individual data points, so we set the marker.\n",
    "plt.plot(djiadf['DATE'].values, djiadf['DowJonesAvg'].values, linestyle='None', marker='o')\n",
    "# autofmt_xdate() tells the computer that it should treat the x-values as dates and format them appropriately. This is a figure function, so we use gcf() to \"get current figure\"\n",
    "plt.gcf().autofmt_xdate()"
   ]
  },
  {
   "cell_type": "markdown",
   "metadata": {
    "collapsed": true
   },
   "source": [
    "## Joining Data\n",
    "\n",
    "We now want to join the data from the store and the Dow Jones Industrial average. This will let us plot the two together to see if there is any correlation between the DJIA and the purchases that the store is making.\n",
    "\n",
    "In order to join two dataframes we need to know how to align the rows or how to match up the data. The easiest way to do this is to try it out with an example to see how it works. We are going to follow [this tutorial](http://chrisalbon.com/python/pandas_join_merge_dataframe.html) on merging data in pandas. We start by creating two small test dataframes."
   ]
  },
  {
   "cell_type": "code",
   "execution_count": null,
   "metadata": {
    "collapsed": false
   },
   "outputs": [],
   "source": [
    "raw_data = {\n",
    "        'patient_id': ['A', 'B', 'C', 'D', 'E'],\n",
    "        'first_name': ['Alex', 'Amy', 'Allen', 'Alice', 'Ayoung'], \n",
    "        'last_name': ['Anderson', 'Ackerman', 'Ali', 'Aoni', 'Atiches'],\n",
    "        'visit_number': [1,2,3,4,5],}\n",
    "df_a = pd.DataFrame(raw_data, columns = ['patient_id', 'first_name', 'last_name','visit_number'])\n",
    "df_a"
   ]
  },
  {
   "cell_type": "code",
   "execution_count": null,
   "metadata": {
    "collapsed": false
   },
   "outputs": [],
   "source": [
    "raw_data = {\n",
    "        'doctor_id': ['G', 'H', 'I', 'A', 'B'],\n",
    "        'first_name': ['Billy', 'Brian', 'Bran', 'Bryce', 'Betty'], \n",
    "        'last_name': ['Bonder', 'Black', 'Balwner', 'Brice', 'Btisan'],\n",
    "        'visit_number': [4,5,6,7,8]}\n",
    "df_b = pd.DataFrame(raw_data, columns = ['doctor_id', 'first_name', 'last_name','visit_number'])\n",
    "df_b"
   ]
  },
  {
   "cell_type": "markdown",
   "metadata": {},
   "source": [
    "How do we tack `df_b` on the end of `df_a`? This is useful if you have pieces of a dataset that you want to combine together. Note that pandas doesn't, by default, reset the index for the new dataframe. We'd have to do that afterwards if we want to. Notice that there are now `NaN` values in the table! The first dataframe didn't have the `doctor_id` column, so pandas filled in those values with `NaN`. Same for the second dataframe and the `patient_id` values. We could drop those columns if we wanted to."
   ]
  },
  {
   "cell_type": "code",
   "execution_count": null,
   "metadata": {
    "collapsed": false
   },
   "outputs": [],
   "source": [
    "pd.concat([df_a, df_b])"
   ]
  },
  {
   "cell_type": "markdown",
   "metadata": {},
   "source": [
    "What if we want to join together the rows that have the same visit_number? Looking at the table, we see that Billy Bonder and Alice Aoni have the same `visit_number`. Let's merge the two dataframes together to see how that works."
   ]
  },
  {
   "cell_type": "code",
   "execution_count": null,
   "metadata": {
    "collapsed": false
   },
   "outputs": [],
   "source": [
    "pd.merge(df_a,df_b,on='visit_number')"
   ]
  },
  {
   "cell_type": "markdown",
   "metadata": {},
   "source": [
    "So we now have a much smaller dataframe that only has the rows where `visit_number` was the same in both. Note that pandas also has changed the column names. This is because there were duplicate names and it can't have that to maintain unique addressing. Look at [the documentation for pandas](http://pandas.pydata.org/pandas-docs/stable/generated/pandas.DataFrame.merge.html) to see how to change the suffixes that pandas appends.\n",
    "\n",
    "What if, instead, we wanted to merge rows where the `patient_id` from one matches the `doctor_id` from the other? We can do that, too. The two dataframes are given the designations **left** and **right** for the first and second dataframes, respectively. So we need to identify the columns in each to match."
   ]
  },
  {
   "cell_type": "code",
   "execution_count": null,
   "metadata": {
    "collapsed": false
   },
   "outputs": [],
   "source": [
    "pd.merge(df_a,df_b,left_on='patient_id',right_on='doctor_id')"
   ]
  },
  {
   "cell_type": "markdown",
   "metadata": {},
   "source": [
    "What if we want to keep *all* of the entries in the left dataframe and only add in values on the right where they match? We can do that, too!"
   ]
  },
  {
   "cell_type": "code",
   "execution_count": null,
   "metadata": {
    "collapsed": false
   },
   "outputs": [],
   "source": [
    "pd.merge(df_a,df_b,on='visit_number', how='left')"
   ]
  },
  {
   "cell_type": "markdown",
   "metadata": {},
   "source": [
    "Not surprisingly, we can do the right-side, too."
   ]
  },
  {
   "cell_type": "code",
   "execution_count": null,
   "metadata": {
    "collapsed": false
   },
   "outputs": [],
   "source": [
    "pd.merge(df_a,df_b,on='visit_number', how='right')"
   ]
  },
  {
   "cell_type": "markdown",
   "metadata": {},
   "source": [
    "Finally, we can do both and include all the data from both dataframes, matching where possible. That is called an \"outer\" join."
   ]
  },
  {
   "cell_type": "code",
   "execution_count": null,
   "metadata": {
    "collapsed": false
   },
   "outputs": [],
   "source": [
    "pd.merge(df_a,df_b,on='visit_number', how='outer')"
   ]
  },
  {
   "cell_type": "markdown",
   "metadata": {},
   "source": [
    "#### Choosing the Merge Index\n",
    "\n",
    "How do you choose the merge index? We used both the `visit_number` and the `patient/doctor_id` values. The key is to be able to merge on some common feature. This may be date (like we show below), but it could also be on zip code, a city name, the month number, financial quarter, or any other piece of information that you have common between your two datasets. You need to make sure that the merge indices have the same data type and are in the same format. For example, the computer doesn't know that 'DALLAS' and 'Dallas' are the same city. We can use the tools we've previously covered to clean up the data prior to attempting the merge."
   ]
  },
  {
   "cell_type": "markdown",
   "metadata": {},
   "source": [
    "## Merging the Store and DJIA data\n",
    "\n",
    "Since we want to keep all of the store data and merge in the DJIA data where we can, we are going to try a left join. We are also going to try joining on the date - they should match up reasonably well."
   ]
  },
  {
   "cell_type": "code",
   "execution_count": null,
   "metadata": {
    "collapsed": false
   },
   "outputs": [],
   "source": [
    "storeDJ = pd.merge(topstoredf, djiadf, left_on='SalesDate',right_on='DATE',how='left')\n",
    "storeDJ.head()"
   ]
  },
  {
   "cell_type": "markdown",
   "metadata": {},
   "source": [
    "Now we can do what we wanted to do: plot the data to see if there is a correlation here!"
   ]
  },
  {
   "cell_type": "code",
   "execution_count": null,
   "metadata": {
    "collapsed": false
   },
   "outputs": [],
   "source": [
    "storeDJ.plot.scatter(x='DowJonesAvg',y='SalesToStore')"
   ]
  },
  {
   "cell_type": "markdown",
   "metadata": {},
   "source": [
    "Well, after all that work, it doesn't look like there is anything there... Perhaps that isn't too surprising as the purchases by a single store may not depend on a macro-scale indicator like the Dow Jones Industrial average. But we didn't know that until we checked.\n",
    "\n",
    "\n",
    "## In-class Activity\n",
    "\n",
    "Instead of looking at the sales to one store, what if we look at the total sales to all of the stores in the state of Iowa? Go through the process of grouping that data and joining it with the DJIA data. Plot the results and show me before you leave."
   ]
  },
  {
   "cell_type": "markdown",
   "metadata": {
    "collapsed": true
   },
   "source": [
    "# Assignment\n",
    "\n",
    "Your assignment this week is to do data enriching on your dataset. You can either add/join data or do some kind of grouping to subset the data. I want documentation of what you did and how it turned out. Like our example today, you may find that the data enriching doesn't do much.\n"
   ]
  },
  {
   "cell_type": "code",
   "execution_count": null,
   "metadata": {
    "collapsed": true
   },
   "outputs": [],
   "source": []
  }
 ],
 "metadata": {
  "kernelspec": {
   "display_name": "Anaconda (Python 3)",
   "language": "python",
   "name": "anaconda3"
  },
  "language_info": {
   "codemirror_mode": {
    "name": "ipython",
    "version": 3
   },
   "file_extension": ".py",
   "mimetype": "text/x-python",
   "name": "python",
   "nbconvert_exporter": "python",
   "pygments_lexer": "ipython3",
   "version": "3.5.2"
  }
 },
 "nbformat": 4,
 "nbformat_minor": 0
}
