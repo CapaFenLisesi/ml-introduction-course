{
 "cells": [
  {
   "cell_type": "markdown",
   "metadata": {
    "collapsed": false
   },
   "source": [
    "# Class 03 - Supplemental\n",
    "## Using Categorical data in machine learning\n",
    "\n",
    "Now that we've created some categorical data or other created features, we would like to use them as inputs for our machine learning algorithm. However, we need to tell the computer that the categorical data isn't the same as other numerical data. For example, I could have the following two types of categorical data:\n",
    "\n",
    "1. Ordered Categorical Data: items like rankings or scales where the size of the output corresponds to some placement along a line. One example is the grade scale where A=4, B=3, C=2, D=1, F=0.\n",
    "2. Unordered Categorical Data: Categories like gender, race, state, or color don't have any rational scale to place them on. So assigning red=4, blue=3 doesn't mean red is 'better' than blue.\n",
    "\n",
    "We want to treat both of these slightly differently. We've got a sample dataset with both types of categorical data in it to work with. Our goal will be to predict the Output value."
   ]
  },
  {
   "cell_type": "code",
   "execution_count": null,
   "metadata": {
    "collapsed": false
   },
   "outputs": [],
   "source": [
    "import pandas as pd\n",
    "import numpy as np\n",
    "\n",
    "sampledata = pd.read_csv('Class03_supplemental_data.csv')\n",
    "\n",
    "print(sampledata.dtypes)\n",
    "sampledata.head()"
   ]
  },
  {
   "cell_type": "markdown",
   "metadata": {
    "collapsed": false
   },
   "source": [
    "We can turn the date column into a real datetime object and get days since the first day in order to work with a more reasonable set of values."
   ]
  },
  {
   "cell_type": "code",
   "execution_count": null,
   "metadata": {
    "collapsed": false
   },
   "outputs": [],
   "source": [
    "sampledata[\"Date2\"] = pd.to_datetime(sampledata[\"Date\"])\n",
    "firstdate = sampledata['Date2'][0]\n",
    "sampledata['DaysSinceStart'] = sampledata['Date2'].apply(lambda date: ((date - firstdate ).seconds)/86400.0) # divided by the number of seconds in a day\n",
    "sampledata.dtypes"
   ]
  },
  {
   "cell_type": "markdown",
   "metadata": {},
   "source": [
    "## Ordered Categorical Values\n",
    "\n",
    "The 'Rank' column are ranked categorical values where the ranking matters on a linear scale. So we can create a categorical column for these values right away. We are lucky here that the values are in alphabetical order - pandas can pick out that order and use it for us."
   ]
  },
  {
   "cell_type": "code",
   "execution_count": null,
   "metadata": {
    "collapsed": false
   },
   "outputs": [],
   "source": [
    "sampledata['CatRank'] = sampledata['Rank'].astype('category')\n",
    "print(sampledata[\"CatRank\"].cat.categories)\n",
    "sampledata[\"CatRank\"][1:10].cat.codes"
   ]
  },
  {
   "cell_type": "markdown",
   "metadata": {},
   "source": [
    "## Unordered Categorical Values\n",
    "\n",
    "Let's now put the states into a categorical column. Even though Pandas will sort them, there is no real 'rank' for the states"
   ]
  },
  {
   "cell_type": "code",
   "execution_count": null,
   "metadata": {
    "collapsed": false
   },
   "outputs": [],
   "source": [
    "sampledata['CatState'] = sampledata['State'].astype('category')\n",
    "print(sampledata[\"CatState\"].cat.categories)\n",
    "sampledata[\"CatState\"][1:10].cat.codes"
   ]
  },
  {
   "cell_type": "markdown",
   "metadata": {},
   "source": [
    "## Modeling with Categorical Data\n",
    "\n",
    "Let's split the dataset and try modeling - we want to predict the output value. We need the categorical codes as columns to do this, so we'll take care of that part first."
   ]
  },
  {
   "cell_type": "code",
   "execution_count": null,
   "metadata": {
    "collapsed": false
   },
   "outputs": [],
   "source": [
    "sampledata['RankCode'] = sampledata['CatRank'].cat.codes\n",
    "sampledata['StateCode'] = sampledata['CatState'].cat.codes\n",
    "sampledata.columns"
   ]
  },
  {
   "cell_type": "code",
   "execution_count": null,
   "metadata": {
    "collapsed": false
   },
   "outputs": [],
   "source": [
    "from sklearn.model_selection import train_test_split\n",
    "from sklearn.linear_model import LinearRegression\n",
    "\n",
    "train1, test1 = train_test_split(sampledata, test_size=0.2, random_state=23)\n",
    "\n",
    "# Step 1: Create linear regression object\n",
    "regr1 = LinearRegression()\n",
    "\n",
    "# Step 2: Train the model using the training sets\n",
    "inputcolumns = ['DaysSinceStart','RankCode','StateCode']\n",
    "features = train1[inputcolumns].values\n",
    "labels = train1['Output'].values\n",
    "\n",
    "regr1.fit(features,labels)"
   ]
  },
  {
   "cell_type": "code",
   "execution_count": null,
   "metadata": {
    "collapsed": false
   },
   "outputs": [],
   "source": [
    "# Step 5: Get the predictions\n",
    "testinputs = test1[inputcolumns].values\n",
    "predictions = regr1.predict(testinputs)\n",
    "actuals = test1['Output'].values\n",
    "\n",
    "# Step 6: Plot the results\n",
    "#\n",
    "# Note the change here in how we plot the test inputs. We can only plot one variable, so we choose the first.\n",
    "# Also, it no longer makes sense to plot the fit points as lines. They have more than one input, so we only visualize them as points.\n",
    "#\n",
    "import matplotlib.pyplot as plt\n",
    "plt.scatter(testinputs[:,0], actuals, color='black', label='Actual')\n",
    "plt.scatter(testinputs[:,0], predictions, color='blue', label='Prediction')\n",
    "plt.legend(loc='upper left', shadow=False, scatterpoints=1)\n",
    "\n",
    "# Step 7: Get the RMS value\n",
    "print(\"RMS Error: {0:.3f}\".format( np.sqrt(np.mean((predictions - actuals) ** 2))))"
   ]
  },
  {
   "cell_type": "markdown",
   "metadata": {},
   "source": [
    "So we see that this didn't do a very good job to start with. However, that's not surprising as it used the states as a ranked categorical value when they obviously aren't.\n",
    "\n",
    "\n",
    "## Using Unranked categorical values\n",
    "\n",
    "What we want is called a **dummy variable**. It will tell the machine learning algorithm to look at whether an entry is one of the states or not. Here's basically how it works. Suppose we have two categories: red and blue. Our categorical column may look like this:\n",
    "\n",
    "| Row | Color |\n",
    "|--- |---|\n",
    "|0 | red |\n",
    "| 1 | red |\n",
    "| 2 | blue |\n",
    "|3 | red |\n",
    "\n",
    "What we want are two new columns that identify whether the row belongs in one of the categories. We'll use `1` when it belongs and `0` when it doesn't. This is what we get:\n",
    "\n",
    "| Row | IsRed | IsBlue |\n",
    "| --- | --- | ---|\n",
    "| 0 | 1 | 0 |\n",
    "| 1 | 1 | 0 |\n",
    "| 2 | 0 | 1 | \n",
    "| 3 | 1 | 0 |\n",
    "\n",
    "\n",
    "We now use these new dummy variable columns as the inputs: they are binary and will only have a 1 value where the original row matched up with the category column. Here's what it looks like in pandas.\n",
    "\n"
   ]
  },
  {
   "cell_type": "code",
   "execution_count": null,
   "metadata": {
    "collapsed": false
   },
   "outputs": [],
   "source": [
    "dummydf = pd.get_dummies(sampledata['CatState'],prefix='S')\n",
    "dummydf.head()"
   ]
  },
  {
   "cell_type": "markdown",
   "metadata": {},
   "source": [
    "We now want to join this back with the original set of features so that we can use it instead of the ranked column of data. Here's one way to do that."
   ]
  },
  {
   "cell_type": "code",
   "execution_count": null,
   "metadata": {
    "collapsed": false
   },
   "outputs": [],
   "source": [
    "sampledata2 = sampledata.join(dummydf)\n",
    "sampledata2.head()"
   ]
  },
  {
   "cell_type": "markdown",
   "metadata": {},
   "source": [
    "We now want to select out all 50 columns from the dummy variable. There is a python way to do this easily, since we used the prefix 'S\\_' for each of those columns "
   ]
  },
  {
   "cell_type": "code",
   "execution_count": null,
   "metadata": {
    "collapsed": false
   },
   "outputs": [],
   "source": [
    "inputcolumns = ['DaysSinceStart','RankCode'] + [col for col in sampledata2.columns if 'S_' in col]\n",
    "\n",
    "train2, test2 = train_test_split(sampledata2, test_size=0.2, random_state=23)\n",
    "\n",
    "# Step 1: Create linear regression object\n",
    "regr2= LinearRegression()\n",
    "\n",
    "features = train2[inputcolumns].values\n",
    "labels = train2['Output'].values\n",
    "\n",
    "regr2.fit(features,labels)"
   ]
  },
  {
   "cell_type": "code",
   "execution_count": null,
   "metadata": {
    "collapsed": false
   },
   "outputs": [],
   "source": [
    "# Step 5: Get the predictions\n",
    "testinputs = test2[inputcolumns].values\n",
    "predictions = regr2.predict(testinputs)\n",
    "actuals = test2['Output'].values\n",
    "\n",
    "plt.scatter(testinputs[:,0], actuals, color='black', label='Actual')\n",
    "plt.scatter(testinputs[:,0], predictions, color='blue', label='Prediction')\n",
    "plt.legend(loc='upper left', shadow=False, scatterpoints=1)\n",
    "\n",
    "# Step 7: Get the RMS value\n",
    "print(\"RMS Error: {0:.3f}\".format( np.sqrt(np.mean((predictions - actuals) ** 2))))"
   ]
  },
  {
   "cell_type": "markdown",
   "metadata": {},
   "source": [
    "So, you can see we did significantly better by changing the categorical column into a dummy variable. Take a look at your own datasets to see if this is what you should be doing."
   ]
  },
  {
   "cell_type": "code",
   "execution_count": null,
   "metadata": {
    "collapsed": true
   },
   "outputs": [],
   "source": []
  }
 ],
 "metadata": {
  "kernelspec": {
   "display_name": "Python 3 (Anaconda)",
   "language": "python",
   "name": "anaconda3"
  },
  "language_info": {
   "codemirror_mode": {
    "name": "ipython",
    "version": 3
   },
   "file_extension": ".py",
   "mimetype": "text/x-python",
   "name": "python",
   "nbconvert_exporter": "python",
   "pygments_lexer": "ipython3",
   "version": "3.5.3"
  }
 },
 "nbformat": 4,
 "nbformat_minor": 0
}
