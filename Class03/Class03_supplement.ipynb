{
 "cells": [
  {
   "cell_type": "markdown",
   "metadata": {
    "collapsed": false
   },
   "source": [
    "# Class 03 - Supplemental\n",
    "## Using Categorical data in machine learning\n",
    "\n",
    "Now that we've created some categorical data or other created features, we would like to use them as inputs for our machine learning algorithm. However, we need to tell the computer that the categorical data isn't the same as other numerical data. For example, I could have the following two types of categorical data:\n",
    "\n",
    "1. Ordered Categorical Data: items like rankings or scales where the size of the output corresponds to some placement along a line. One example is the grade scale where A=4, B=3, C=2, D=1, F=0.\n",
    "2. Unordered Categorical Data: Categories like gender, race, state, or color don't have any rational scale to place them on. So assigning red=4, blue=3 doesn't mean red is 'better' than blue.\n",
    "\n",
    "We want to treat both of these slightly differently. We've got a sample dataset with both types of categorical data in it to work with. Our goal will be to predict the Output value."
   ]
  },
  {
   "cell_type": "code",
   "execution_count": 1,
   "metadata": {
    "collapsed": false
   },
   "outputs": [
    {
     "name": "stdout",
     "output_type": "stream",
     "text": [
      "Date       object\n",
      "Rank       object\n",
      "State      object\n",
      "Output    float64\n",
      "dtype: object\n"
     ]
    },
    {
     "data": {
      "text/html": [
       "<div>\n",
       "<table border=\"1\" class=\"dataframe\">\n",
       "  <thead>\n",
       "    <tr style=\"text-align: right;\">\n",
       "      <th></th>\n",
       "      <th>Date</th>\n",
       "      <th>Rank</th>\n",
       "      <th>State</th>\n",
       "      <th>Output</th>\n",
       "    </tr>\n",
       "  </thead>\n",
       "  <tbody>\n",
       "    <tr>\n",
       "      <th>0</th>\n",
       "      <td>2004-03-15T12:45:32Z</td>\n",
       "      <td>E</td>\n",
       "      <td>NH</td>\n",
       "      <td>211.813359</td>\n",
       "    </tr>\n",
       "    <tr>\n",
       "      <th>1</th>\n",
       "      <td>2004-03-15T20:50:02Z</td>\n",
       "      <td>F</td>\n",
       "      <td>MO</td>\n",
       "      <td>210.218858</td>\n",
       "    </tr>\n",
       "    <tr>\n",
       "      <th>2</th>\n",
       "      <td>2004-03-16T05:46:43Z</td>\n",
       "      <td>E</td>\n",
       "      <td>MT</td>\n",
       "      <td>210.915793</td>\n",
       "    </tr>\n",
       "    <tr>\n",
       "      <th>3</th>\n",
       "      <td>2004-03-16T22:19:24Z</td>\n",
       "      <td>D</td>\n",
       "      <td>LA</td>\n",
       "      <td>209.355303</td>\n",
       "    </tr>\n",
       "    <tr>\n",
       "      <th>4</th>\n",
       "      <td>2004-03-17T05:01:51Z</td>\n",
       "      <td>D</td>\n",
       "      <td>MD</td>\n",
       "      <td>205.653412</td>\n",
       "    </tr>\n",
       "  </tbody>\n",
       "</table>\n",
       "</div>"
      ],
      "text/plain": [
       "                   Date Rank State      Output\n",
       "0  2004-03-15T12:45:32Z    E    NH  211.813359\n",
       "1  2004-03-15T20:50:02Z    F    MO  210.218858\n",
       "2  2004-03-16T05:46:43Z    E    MT  210.915793\n",
       "3  2004-03-16T22:19:24Z    D    LA  209.355303\n",
       "4  2004-03-17T05:01:51Z    D    MD  205.653412"
      ]
     },
     "execution_count": 1,
     "metadata": {},
     "output_type": "execute_result"
    }
   ],
   "source": [
    "import pandas as pd\n",
    "import numpy as np\n",
    "\n",
    "sampledata = pd.read_csv('Class03_supplemental_data.csv')\n",
    "\n",
    "print(sampledata.dtypes)\n",
    "sampledata.head()"
   ]
  },
  {
   "cell_type": "markdown",
   "metadata": {
    "collapsed": false
   },
   "source": [
    "We can turn the date column into a real datetime object and get days since the first day in order to work with a more reasonable set of values."
   ]
  },
  {
   "cell_type": "code",
   "execution_count": 2,
   "metadata": {
    "collapsed": false
   },
   "outputs": [
    {
     "data": {
      "text/plain": [
       "Date                      object\n",
       "Rank                      object\n",
       "State                     object\n",
       "Output                   float64\n",
       "Date2             datetime64[ns]\n",
       "DaysSinceStart           float64\n",
       "dtype: object"
      ]
     },
     "execution_count": 2,
     "metadata": {},
     "output_type": "execute_result"
    }
   ],
   "source": [
    "sampledata[\"Date2\"] = pd.to_datetime(sampledata[\"Date\"])\n",
    "firstdate = sampledata['Date2'][0]\n",
    "sampledata['DaysSinceStart'] = sampledata['Date2'].apply(lambda date: ((date - firstdate ).seconds)/86400.0) # divided by the number of seconds in a day\n",
    "sampledata.dtypes"
   ]
  },
  {
   "cell_type": "markdown",
   "metadata": {},
   "source": [
    "## Ordered Categorical Values\n",
    "\n",
    "The 'Rank' column are ranked categorical values where the ranking matters on a linear scale. So we can create a categorical column for these values right away. We are lucky here that the values are in alphabetical order - pandas can pick out that order and use it for us."
   ]
  },
  {
   "cell_type": "code",
   "execution_count": 3,
   "metadata": {
    "collapsed": false
   },
   "outputs": [
    {
     "name": "stdout",
     "output_type": "stream",
     "text": [
      "Index(['A', 'B', 'C', 'D', 'E', 'F'], dtype='object')\n"
     ]
    },
    {
     "data": {
      "text/plain": [
       "1    5\n",
       "2    4\n",
       "3    3\n",
       "4    3\n",
       "5    4\n",
       "6    2\n",
       "7    1\n",
       "8    1\n",
       "9    2\n",
       "dtype: int8"
      ]
     },
     "execution_count": 3,
     "metadata": {},
     "output_type": "execute_result"
    }
   ],
   "source": [
    "sampledata['CatRank'] = sampledata['Rank'].astype('category')\n",
    "print(sampledata[\"CatRank\"].cat.categories)\n",
    "sampledata[\"CatRank\"][1:10].cat.codes"
   ]
  },
  {
   "cell_type": "markdown",
   "metadata": {},
   "source": [
    "## Unordered Categorical Values\n",
    "\n",
    "Let's now put the states into a categorical column. Even though Pandas will sort them, there is no real 'rank' for the states"
   ]
  },
  {
   "cell_type": "code",
   "execution_count": 4,
   "metadata": {
    "collapsed": false
   },
   "outputs": [
    {
     "name": "stdout",
     "output_type": "stream",
     "text": [
      "Index(['AK', 'AL', 'AR', 'AZ', 'CA', 'CO', 'CT', 'DE', 'FL', 'GA', 'HI', 'IA',\n",
      "       'ID', 'IL', 'IN', 'KS', 'KY', 'LA', 'MA', 'MD', 'ME', 'MI', 'MN', 'MO',\n",
      "       'MS', 'MT', 'NC', 'ND', 'NE', 'NH', 'NJ', 'NM', 'NV', 'NY', 'OH', 'OK',\n",
      "       'OR', 'PA', 'RI', 'SC', 'SD', 'TN', 'TX', 'UT', 'VA', 'VT', 'WA', 'WI',\n",
      "       'WV', 'WY'],\n",
      "      dtype='object')\n"
     ]
    },
    {
     "data": {
      "text/plain": [
       "1    23\n",
       "2    25\n",
       "3    17\n",
       "4    19\n",
       "5    20\n",
       "6    16\n",
       "7    23\n",
       "8    45\n",
       "9    38\n",
       "dtype: int8"
      ]
     },
     "execution_count": 4,
     "metadata": {},
     "output_type": "execute_result"
    }
   ],
   "source": [
    "sampledata['CatState'] = sampledata['State'].astype('category')\n",
    "print(sampledata[\"CatState\"].cat.categories)\n",
    "sampledata[\"CatState\"][1:10].cat.codes"
   ]
  },
  {
   "cell_type": "markdown",
   "metadata": {},
   "source": [
    "## Modeling with Categorical Data\n",
    "\n",
    "Let's split the dataset and try modeling - we want to predict the output value. We need the categorical codes as columns to do this, so we'll take care of that part first."
   ]
  },
  {
   "cell_type": "code",
   "execution_count": 5,
   "metadata": {
    "collapsed": false
   },
   "outputs": [
    {
     "data": {
      "text/plain": [
       "Index(['Date', 'Rank', 'State', 'Output', 'Date2', 'DaysSinceStart', 'CatRank',\n",
       "       'CatState', 'RankCode', 'StateCode'],\n",
       "      dtype='object')"
      ]
     },
     "execution_count": 5,
     "metadata": {},
     "output_type": "execute_result"
    }
   ],
   "source": [
    "sampledata['RankCode'] = sampledata['CatRank'].cat.codes\n",
    "sampledata['StateCode'] = sampledata['CatState'].cat.codes\n",
    "sampledata.columns"
   ]
  },
  {
   "cell_type": "code",
   "execution_count": 6,
   "metadata": {
    "collapsed": false
   },
   "outputs": [
    {
     "data": {
      "text/plain": [
       "LinearRegression(copy_X=True, fit_intercept=True, n_jobs=1, normalize=False)"
      ]
     },
     "execution_count": 6,
     "metadata": {},
     "output_type": "execute_result"
    }
   ],
   "source": [
    "from sklearn.model_selection import train_test_split\n",
    "from sklearn.linear_model import LinearRegression\n",
    "\n",
    "train1, test1 = train_test_split(sampledata, test_size=0.2, random_state=23)\n",
    "\n",
    "# Step 1: Create linear regression object\n",
    "regr1 = LinearRegression()\n",
    "\n",
    "# Step 2: Train the model using the training sets\n",
    "inputcolumns = ['DaysSinceStart','RankCode','StateCode']\n",
    "features = train1[inputcolumns].values\n",
    "labels = train1['Output'].values\n",
    "\n",
    "regr1.fit(features,labels)"
   ]
  },
  {
   "cell_type": "code",
   "execution_count": 7,
   "metadata": {
    "collapsed": false
   },
   "outputs": [
    {
     "name": "stdout",
     "output_type": "stream",
     "text": [
      "RMS Error: 3.576\n"
     ]
    },
    {
     "data": {
      "image/png": "[encoded data removed]",
      "text/plain": [
       "<matplotlib.figure.Figure at 0x1e3e4a391d0>"
      ]
     },
     "metadata": {},
     "output_type": "display_data"
    }
   ],
   "source": [
    "# Step 5: Get the predictions\n",
    "testinputs = test1[inputcolumns].values\n",
    "predictions = regr1.predict(testinputs)\n",
    "actuals = test1['Output'].values\n",
    "\n",
    "# Step 6: Plot the results\n",
    "#\n",
    "# Note the change here in how we plot the test inputs. We can only plot one variable, so we choose the first.\n",
    "# Also, it no longer makes sense to plot the fit points as lines. They have more than one input, so we only visualize them as points.\n",
    "#\n",
    "import matplotlib.pyplot as plt\n",
    "%matplotlib inline\n",
    "plt.scatter(testinputs[:,0], actuals, color='black', label='Actual')\n",
    "plt.scatter(testinputs[:,0], predictions, color='blue', label='Prediction')\n",
    "plt.legend(loc='upper left', shadow=False, scatterpoints=1)\n",
    "\n",
    "# Step 7: Get the RMS value\n",
    "print(\"RMS Error: {0:.3f}\".format( np.sqrt(np.mean((predictions - actuals) ** 2))))"
   ]
  },
  {
   "cell_type": "markdown",
   "metadata": {},
   "source": [
    "So we see that this didn't do a very good job to start with. However, that's not surprising as it used the states as a ranked categorical value when they obviously aren't.\n",
    "\n",
    "\n",
    "## Using Unranked categorical values\n",
    "\n",
    "What we want is called a **dummy variable**. It will tell the machine learning algorithm to look at whether an entry is one of the states or not. Here's basically how it works. Suppose we have two categories: red and blue. Our categorical column may look like this:\n",
    "\n",
    "| Row | Color |\n",
    "|--- |---|\n",
    "|0 | red |\n",
    "| 1 | red |\n",
    "| 2 | blue |\n",
    "|3 | red |\n",
    "\n",
    "What we want are two new columns that identify whether the row belongs in one of the categories. We'll use `1` when it belongs and `0` when it doesn't. This is what we get:\n",
    "\n",
    "| Row | IsRed | IsBlue |\n",
    "| --- | --- | ---|\n",
    "| 0 | 1 | 0 |\n",
    "| 1 | 1 | 0 |\n",
    "| 2 | 0 | 1 | \n",
    "| 3 | 1 | 0 |\n",
    "\n",
    "\n",
    "We now use these new dummy variable columns as the inputs: they are binary and will only have a 1 value where the original row matched up with the category column. Here's what it looks like in pandas.\n",
    "\n"
   ]
  },
  {
   "cell_type": "code",
   "execution_count": 8,
   "metadata": {
    "collapsed": false
   },
   "outputs": [
    {
     "data": {
      "text/html": [
       "<div>\n",
       "<table border=\"1\" class=\"dataframe\">\n",
       "  <thead>\n",
       "    <tr style=\"text-align: right;\">\n",
       "      <th></th>\n",
       "      <th>S_AK</th>\n",
       "      <th>S_AL</th>\n",
       "      <th>S_AR</th>\n",
       "      <th>S_AZ</th>\n",
       "      <th>S_CA</th>\n",
       "      <th>S_CO</th>\n",
       "      <th>S_CT</th>\n",
       "      <th>S_DE</th>\n",
       "      <th>S_FL</th>\n",
       "      <th>S_GA</th>\n",
       "      <th>...</th>\n",
       "      <th>S_SD</th>\n",
       "      <th>S_TN</th>\n",
       "      <th>S_TX</th>\n",
       "      <th>S_UT</th>\n",
       "      <th>S_VA</th>\n",
       "      <th>S_VT</th>\n",
       "      <th>S_WA</th>\n",
       "      <th>S_WI</th>\n",
       "      <th>S_WV</th>\n",
       "      <th>S_WY</th>\n",
       "    </tr>\n",
       "  </thead>\n",
       "  <tbody>\n",
       "    <tr>\n",
       "      <th>0</th>\n",
       "      <td>0</td>\n",
       "      <td>0</td>\n",
       "      <td>0</td>\n",
       "      <td>0</td>\n",
       "      <td>0</td>\n",
       "      <td>0</td>\n",
       "      <td>0</td>\n",
       "      <td>0</td>\n",
       "      <td>0</td>\n",
       "      <td>0</td>\n",
       "      <td>...</td>\n",
       "      <td>0</td>\n",
       "      <td>0</td>\n",
       "      <td>0</td>\n",
       "      <td>0</td>\n",
       "      <td>0</td>\n",
       "      <td>0</td>\n",
       "      <td>0</td>\n",
       "      <td>0</td>\n",
       "      <td>0</td>\n",
       "      <td>0</td>\n",
       "    </tr>\n",
       "    <tr>\n",
       "      <th>1</th>\n",
       "      <td>0</td>\n",
       "      <td>0</td>\n",
       "      <td>0</td>\n",
       "      <td>0</td>\n",
       "      <td>0</td>\n",
       "      <td>0</td>\n",
       "      <td>0</td>\n",
       "      <td>0</td>\n",
       "      <td>0</td>\n",
       "      <td>0</td>\n",
       "      <td>...</td>\n",
       "      <td>0</td>\n",
       "      <td>0</td>\n",
       "      <td>0</td>\n",
       "      <td>0</td>\n",
       "      <td>0</td>\n",
       "      <td>0</td>\n",
       "      <td>0</td>\n",
       "      <td>0</td>\n",
       "      <td>0</td>\n",
       "      <td>0</td>\n",
       "    </tr>\n",
       "    <tr>\n",
       "      <th>2</th>\n",
       "      <td>0</td>\n",
       "      <td>0</td>\n",
       "      <td>0</td>\n",
       "      <td>0</td>\n",
       "      <td>0</td>\n",
       "      <td>0</td>\n",
       "      <td>0</td>\n",
       "      <td>0</td>\n",
       "      <td>0</td>\n",
       "      <td>0</td>\n",
       "      <td>...</td>\n",
       "      <td>0</td>\n",
       "      <td>0</td>\n",
       "      <td>0</td>\n",
       "      <td>0</td>\n",
       "      <td>0</td>\n",
       "      <td>0</td>\n",
       "      <td>0</td>\n",
       "      <td>0</td>\n",
       "      <td>0</td>\n",
       "      <td>0</td>\n",
       "    </tr>\n",
       "    <tr>\n",
       "      <th>3</th>\n",
       "      <td>0</td>\n",
       "      <td>0</td>\n",
       "      <td>0</td>\n",
       "      <td>0</td>\n",
       "      <td>0</td>\n",
       "      <td>0</td>\n",
       "      <td>0</td>\n",
       "      <td>0</td>\n",
       "      <td>0</td>\n",
       "      <td>0</td>\n",
       "      <td>...</td>\n",
       "      <td>0</td>\n",
       "      <td>0</td>\n",
       "      <td>0</td>\n",
       "      <td>0</td>\n",
       "      <td>0</td>\n",
       "      <td>0</td>\n",
       "      <td>0</td>\n",
       "      <td>0</td>\n",
       "      <td>0</td>\n",
       "      <td>0</td>\n",
       "    </tr>\n",
       "    <tr>\n",
       "      <th>4</th>\n",
       "      <td>0</td>\n",
       "      <td>0</td>\n",
       "      <td>0</td>\n",
       "      <td>0</td>\n",
       "      <td>0</td>\n",
       "      <td>0</td>\n",
       "      <td>0</td>\n",
       "      <td>0</td>\n",
       "      <td>0</td>\n",
       "      <td>0</td>\n",
       "      <td>...</td>\n",
       "      <td>0</td>\n",
       "      <td>0</td>\n",
       "      <td>0</td>\n",
       "      <td>0</td>\n",
       "      <td>0</td>\n",
       "      <td>0</td>\n",
       "      <td>0</td>\n",
       "      <td>0</td>\n",
       "      <td>0</td>\n",
       "      <td>0</td>\n",
       "    </tr>\n",
       "  </tbody>\n",
       "</table>\n",
       "<p>5 rows × 50 columns</p>\n",
       "</div>"
      ],
      "text/plain": [
       "   S_AK  S_AL  S_AR  S_AZ  S_CA  S_CO  S_CT  S_DE  S_FL  S_GA  ...   S_SD  \\\n",
       "0     0     0     0     0     0     0     0     0     0     0  ...      0   \n",
       "1     0     0     0     0     0     0     0     0     0     0  ...      0   \n",
       "2     0     0     0     0     0     0     0     0     0     0  ...      0   \n",
       "3     0     0     0     0     0     0     0     0     0     0  ...      0   \n",
       "4     0     0     0     0     0     0     0     0     0     0  ...      0   \n",
       "\n",
       "   S_TN  S_TX  S_UT  S_VA  S_VT  S_WA  S_WI  S_WV  S_WY  \n",
       "0     0     0     0     0     0     0     0     0     0  \n",
       "1     0     0     0     0     0     0     0     0     0  \n",
       "2     0     0     0     0     0     0     0     0     0  \n",
       "3     0     0     0     0     0     0     0     0     0  \n",
       "4     0     0     0     0     0     0     0     0     0  \n",
       "\n",
       "[5 rows x 50 columns]"
      ]
     },
     "execution_count": 8,
     "metadata": {},
     "output_type": "execute_result"
    }
   ],
   "source": [
    "dummydf = pd.get_dummies(sampledata['CatState'],prefix='S')\n",
    "dummydf.head()"
   ]
  },
  {
   "cell_type": "markdown",
   "metadata": {},
   "source": [
    "We now want to join this back with the original set of features so that we can use it instead of the ranked column of data. Here's one way to do that."
   ]
  },
  {
   "cell_type": "code",
   "execution_count": 9,
   "metadata": {
    "collapsed": false
   },
   "outputs": [
    {
     "data": {
      "text/html": [
       "<div>\n",
       "<table border=\"1\" class=\"dataframe\">\n",
       "  <thead>\n",
       "    <tr style=\"text-align: right;\">\n",
       "      <th></th>\n",
       "      <th>Date</th>\n",
       "      <th>Rank</th>\n",
       "      <th>State</th>\n",
       "      <th>Output</th>\n",
       "      <th>Date2</th>\n",
       "      <th>DaysSinceStart</th>\n",
       "      <th>CatRank</th>\n",
       "      <th>CatState</th>\n",
       "      <th>RankCode</th>\n",
       "      <th>StateCode</th>\n",
       "      <th>...</th>\n",
       "      <th>S_SD</th>\n",
       "      <th>S_TN</th>\n",
       "      <th>S_TX</th>\n",
       "      <th>S_UT</th>\n",
       "      <th>S_VA</th>\n",
       "      <th>S_VT</th>\n",
       "      <th>S_WA</th>\n",
       "      <th>S_WI</th>\n",
       "      <th>S_WV</th>\n",
       "      <th>S_WY</th>\n",
       "    </tr>\n",
       "  </thead>\n",
       "  <tbody>\n",
       "    <tr>\n",
       "      <th>0</th>\n",
       "      <td>2004-03-15T12:45:32Z</td>\n",
       "      <td>E</td>\n",
       "      <td>NH</td>\n",
       "      <td>211.813359</td>\n",
       "      <td>2004-03-15 12:45:32</td>\n",
       "      <td>0.000000</td>\n",
       "      <td>E</td>\n",
       "      <td>NH</td>\n",
       "      <td>4</td>\n",
       "      <td>29</td>\n",
       "      <td>...</td>\n",
       "      <td>0</td>\n",
       "      <td>0</td>\n",
       "      <td>0</td>\n",
       "      <td>0</td>\n",
       "      <td>0</td>\n",
       "      <td>0</td>\n",
       "      <td>0</td>\n",
       "      <td>0</td>\n",
       "      <td>0</td>\n",
       "      <td>0</td>\n",
       "    </tr>\n",
       "    <tr>\n",
       "      <th>1</th>\n",
       "      <td>2004-03-15T20:50:02Z</td>\n",
       "      <td>F</td>\n",
       "      <td>MO</td>\n",
       "      <td>210.218858</td>\n",
       "      <td>2004-03-15 20:50:02</td>\n",
       "      <td>0.336458</td>\n",
       "      <td>F</td>\n",
       "      <td>MO</td>\n",
       "      <td>5</td>\n",
       "      <td>23</td>\n",
       "      <td>...</td>\n",
       "      <td>0</td>\n",
       "      <td>0</td>\n",
       "      <td>0</td>\n",
       "      <td>0</td>\n",
       "      <td>0</td>\n",
       "      <td>0</td>\n",
       "      <td>0</td>\n",
       "      <td>0</td>\n",
       "      <td>0</td>\n",
       "      <td>0</td>\n",
       "    </tr>\n",
       "    <tr>\n",
       "      <th>2</th>\n",
       "      <td>2004-03-16T05:46:43Z</td>\n",
       "      <td>E</td>\n",
       "      <td>MT</td>\n",
       "      <td>210.915793</td>\n",
       "      <td>2004-03-16 05:46:43</td>\n",
       "      <td>0.709155</td>\n",
       "      <td>E</td>\n",
       "      <td>MT</td>\n",
       "      <td>4</td>\n",
       "      <td>25</td>\n",
       "      <td>...</td>\n",
       "      <td>0</td>\n",
       "      <td>0</td>\n",
       "      <td>0</td>\n",
       "      <td>0</td>\n",
       "      <td>0</td>\n",
       "      <td>0</td>\n",
       "      <td>0</td>\n",
       "      <td>0</td>\n",
       "      <td>0</td>\n",
       "      <td>0</td>\n",
       "    </tr>\n",
       "    <tr>\n",
       "      <th>3</th>\n",
       "      <td>2004-03-16T22:19:24Z</td>\n",
       "      <td>D</td>\n",
       "      <td>LA</td>\n",
       "      <td>209.355303</td>\n",
       "      <td>2004-03-16 22:19:24</td>\n",
       "      <td>0.398519</td>\n",
       "      <td>D</td>\n",
       "      <td>LA</td>\n",
       "      <td>3</td>\n",
       "      <td>17</td>\n",
       "      <td>...</td>\n",
       "      <td>0</td>\n",
       "      <td>0</td>\n",
       "      <td>0</td>\n",
       "      <td>0</td>\n",
       "      <td>0</td>\n",
       "      <td>0</td>\n",
       "      <td>0</td>\n",
       "      <td>0</td>\n",
       "      <td>0</td>\n",
       "      <td>0</td>\n",
       "    </tr>\n",
       "    <tr>\n",
       "      <th>4</th>\n",
       "      <td>2004-03-17T05:01:51Z</td>\n",
       "      <td>D</td>\n",
       "      <td>MD</td>\n",
       "      <td>205.653412</td>\n",
       "      <td>2004-03-17 05:01:51</td>\n",
       "      <td>0.677998</td>\n",
       "      <td>D</td>\n",
       "      <td>MD</td>\n",
       "      <td>3</td>\n",
       "      <td>19</td>\n",
       "      <td>...</td>\n",
       "      <td>0</td>\n",
       "      <td>0</td>\n",
       "      <td>0</td>\n",
       "      <td>0</td>\n",
       "      <td>0</td>\n",
       "      <td>0</td>\n",
       "      <td>0</td>\n",
       "      <td>0</td>\n",
       "      <td>0</td>\n",
       "      <td>0</td>\n",
       "    </tr>\n",
       "  </tbody>\n",
       "</table>\n",
       "<p>5 rows × 60 columns</p>\n",
       "</div>"
      ],
      "text/plain": [
       "                   Date Rank State      Output               Date2  \\\n",
       "0  2004-03-15T12:45:32Z    E    NH  211.813359 2004-03-15 12:45:32   \n",
       "1  2004-03-15T20:50:02Z    F    MO  210.218858 2004-03-15 20:50:02   \n",
       "2  2004-03-16T05:46:43Z    E    MT  210.915793 2004-03-16 05:46:43   \n",
       "3  2004-03-16T22:19:24Z    D    LA  209.355303 2004-03-16 22:19:24   \n",
       "4  2004-03-17T05:01:51Z    D    MD  205.653412 2004-03-17 05:01:51   \n",
       "\n",
       "   DaysSinceStart CatRank CatState  RankCode  StateCode  ...   S_SD  S_TN  \\\n",
       "0        0.000000       E       NH         4         29  ...      0     0   \n",
       "1        0.336458       F       MO         5         23  ...      0     0   \n",
       "2        0.709155       E       MT         4         25  ...      0     0   \n",
       "3        0.398519       D       LA         3         17  ...      0     0   \n",
       "4        0.677998       D       MD         3         19  ...      0     0   \n",
       "\n",
       "   S_TX  S_UT  S_VA  S_VT  S_WA  S_WI  S_WV  S_WY  \n",
       "0     0     0     0     0     0     0     0     0  \n",
       "1     0     0     0     0     0     0     0     0  \n",
       "2     0     0     0     0     0     0     0     0  \n",
       "3     0     0     0     0     0     0     0     0  \n",
       "4     0     0     0     0     0     0     0     0  \n",
       "\n",
       "[5 rows x 60 columns]"
      ]
     },
     "execution_count": 9,
     "metadata": {},
     "output_type": "execute_result"
    }
   ],
   "source": [
    "sampledata2 = sampledata.join(dummydf)\n",
    "sampledata2.head()"
   ]
  },
  {
   "cell_type": "markdown",
   "metadata": {},
   "source": [
    "We now want to select out all 50 columns from the dummy variable. There is a python way to do this easily, since we used the prefix 'S\\_' for each of those columns "
   ]
  },
  {
   "cell_type": "code",
   "execution_count": 10,
   "metadata": {
    "collapsed": false
   },
   "outputs": [
    {
     "data": {
      "text/plain": [
       "LinearRegression(copy_X=True, fit_intercept=True, n_jobs=1, normalize=False)"
      ]
     },
     "execution_count": 10,
     "metadata": {},
     "output_type": "execute_result"
    }
   ],
   "source": [
    "inputcolumns = ['DaysSinceStart','RankCode'] + [col for col in sampledata2.columns if 'S_' in col]\n",
    "\n",
    "train2, test2 = train_test_split(sampledata2, test_size=0.2, random_state=23)\n",
    "\n",
    "# Step 1: Create linear regression object\n",
    "regr2= LinearRegression()\n",
    "\n",
    "features = train2[inputcolumns].values\n",
    "labels = train2['Output'].values\n",
    "\n",
    "regr2.fit(features,labels)"
   ]
  },
  {
   "cell_type": "code",
   "execution_count": 11,
   "metadata": {
    "collapsed": false
   },
   "outputs": [
    {
     "name": "stdout",
     "output_type": "stream",
     "text": [
      "RMS Error: 1.438\n"
     ]
    },
    {
     "data": {
      "image/png": "[encoded data removed]",
      "text/plain": [
       "<matplotlib.figure.Figure at 0x1e3e836d240>"
      ]
     },
     "metadata": {},
     "output_type": "display_data"
    }
   ],
   "source": [
    "# Step 5: Get the predictions\n",
    "testinputs = test2[inputcolumns].values\n",
    "predictions = regr2.predict(testinputs)\n",
    "actuals = test2['Output'].values\n",
    "\n",
    "plt.scatter(testinputs[:,0], actuals, color='black', label='Actual')\n",
    "plt.scatter(testinputs[:,0], predictions, color='blue', label='Prediction')\n",
    "plt.legend(loc='upper left', shadow=False, scatterpoints=1)\n",
    "\n",
    "# Step 7: Get the RMS value\n",
    "print(\"RMS Error: {0:.3f}\".format( np.sqrt(np.mean((predictions - actuals) ** 2))))"
   ]
  },
  {
   "cell_type": "markdown",
   "metadata": {},
   "source": [
    "So, you can see we did significantly better by changing the categorical column into a dummy variable. Take a look at your own datasets to see if this is what you should be doing."
   ]
  },
  {
   "cell_type": "code",
   "execution_count": null,
   "metadata": {
    "collapsed": true
   },
   "outputs": [],
   "source": []
  }
 ],
 "metadata": {
  "kernelspec": {
   "display_name": "Python 3",
   "language": "python",
   "name": "python3"
  },
  "language_info": {
   "codemirror_mode": {
    "name": "ipython",
    "version": 3
   },
   "file_extension": ".py",
   "mimetype": "text/x-python",
   "name": "python",
   "nbconvert_exporter": "python",
   "pygments_lexer": "ipython3",
   "version": "3.6.0"
  }
 },
 "nbformat": 4,
 "nbformat_minor": 0
}
