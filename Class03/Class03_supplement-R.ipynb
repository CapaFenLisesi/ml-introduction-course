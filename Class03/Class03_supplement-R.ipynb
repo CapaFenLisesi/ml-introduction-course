{
 "cells": [
  {
   "cell_type": "markdown",
   "metadata": {
    "collapsed": false
   },
   "source": [
    "# Class 03 - Supplemental\n",
    "## Using Categorical data in machine learning\n",
    "\n",
    "Now that we've created some categorical data or other created features, we would like to use them as inputs for our machine learning algorithm. However, we need to tell the computer that the categorical data isn't the same as other numerical data. For example, I could have the following two types of categorical data:\n",
    "\n",
    "1. Ordered Categorical Data: items like rankings or scales where the size of the output corresponds to some placement along a line. One example is the grade scale where A=4, B=3, C=2, D=1, F=0.\n",
    "2. Unordered Categorical Data: Categories like gender, race, state, or color don't have any rational scale to place them on. So assigning red=4, blue=3 doesn't mean red is 'better' than blue.\n",
    "\n",
    "We want to treat both of these slightly differently. We've got a sample dataset with both types of categorical data in it to work with. Our goal will be to predict the Output value."
   ]
  },
  {
   "cell_type": "code",
   "execution_count": 1,
   "metadata": {
    "collapsed": false
   },
   "outputs": [
    {
     "name": "stdout",
     "output_type": "stream",
     "text": [
      "'data.frame':\t1000 obs. of  4 variables:\n",
      " $ Date  : chr  \"2004-03-15T12:45:32Z\" \"2004-03-15T20:50:02Z\" \"2004-03-16T05:46:43Z\" \"2004-03-16T22:19:24Z\" ...\n",
      " $ Rank  : chr  \"E\" \"F\" \"E\" \"D\" ...\n",
      " $ State : chr  \"NH\" \"MO\" \"MT\" \"LA\" ...\n",
      " $ Output: num  212 210 211 209 206 ...\n",
      "NULL\n"
     ]
    },
    {
     "data": {
      "text/html": [
       "<table>\n",
       "<thead><tr><th scope=col>Date</th><th scope=col>Rank</th><th scope=col>State</th><th scope=col>Output</th></tr></thead>\n",
       "<tbody>\n",
       "\t<tr><td>2004-03-15T12:45:32Z</td><td>E                   </td><td>NH                  </td><td>211.8134            </td></tr>\n",
       "\t<tr><td>2004-03-15T20:50:02Z</td><td>F                   </td><td>MO                  </td><td>210.2189            </td></tr>\n",
       "\t<tr><td>2004-03-16T05:46:43Z</td><td>E                   </td><td>MT                  </td><td>210.9158            </td></tr>\n",
       "\t<tr><td>2004-03-16T22:19:24Z</td><td>D                   </td><td>LA                  </td><td>209.3553            </td></tr>\n",
       "\t<tr><td>2004-03-17T05:01:51Z</td><td>D                   </td><td>MD                  </td><td>205.6534            </td></tr>\n",
       "\t<tr><td>2004-03-17T13:41:21Z</td><td>E                   </td><td>ME                  </td><td>209.5376            </td></tr>\n",
       "</tbody>\n",
       "</table>\n"
      ],
      "text/latex": [
       "\\begin{tabular}{r|llll}\n",
       " Date & Rank & State & Output\\\\\n",
       "\\hline\n",
       "\t 2004-03-15T12:45:32Z & E                    & NH                   & 211.8134            \\\\\n",
       "\t 2004-03-15T20:50:02Z & F                    & MO                   & 210.2189            \\\\\n",
       "\t 2004-03-16T05:46:43Z & E                    & MT                   & 210.9158            \\\\\n",
       "\t 2004-03-16T22:19:24Z & D                    & LA                   & 209.3553            \\\\\n",
       "\t 2004-03-17T05:01:51Z & D                    & MD                   & 205.6534            \\\\\n",
       "\t 2004-03-17T13:41:21Z & E                    & ME                   & 209.5376            \\\\\n",
       "\\end{tabular}\n"
      ],
      "text/markdown": [
       "\n",
       "Date | Rank | State | Output | \n",
       "|---|---|---|---|---|---|\n",
       "| 2004-03-15T12:45:32Z | E                    | NH                   | 211.8134             | \n",
       "| 2004-03-15T20:50:02Z | F                    | MO                   | 210.2189             | \n",
       "| 2004-03-16T05:46:43Z | E                    | MT                   | 210.9158             | \n",
       "| 2004-03-16T22:19:24Z | D                    | LA                   | 209.3553             | \n",
       "| 2004-03-17T05:01:51Z | D                    | MD                   | 205.6534             | \n",
       "| 2004-03-17T13:41:21Z | E                    | ME                   | 209.5376             | \n",
       "\n",
       "\n"
      ],
      "text/plain": [
       "  Date                 Rank State Output  \n",
       "1 2004-03-15T12:45:32Z E    NH    211.8134\n",
       "2 2004-03-15T20:50:02Z F    MO    210.2189\n",
       "3 2004-03-16T05:46:43Z E    MT    210.9158\n",
       "4 2004-03-16T22:19:24Z D    LA    209.3553\n",
       "5 2004-03-17T05:01:51Z D    MD    205.6534\n",
       "6 2004-03-17T13:41:21Z E    ME    209.5376"
      ]
     },
     "metadata": {},
     "output_type": "display_data"
    }
   ],
   "source": [
    "sampledata <- read.csv('Class03_supplemental_data.csv', stringsAsFactors=FALSE)\n",
    "\n",
    "print(str(sampledata))\n",
    "head(sampledata)"
   ]
  },
  {
   "cell_type": "markdown",
   "metadata": {
    "collapsed": false
   },
   "source": [
    "We can turn the date column into a real datetime object and get days since the first day in order to work with a more reasonable set of values."
   ]
  },
  {
   "cell_type": "code",
   "execution_count": 2,
   "metadata": {
    "collapsed": false
   },
   "outputs": [
    {
     "name": "stdout",
     "output_type": "stream",
     "text": [
      "'data.frame':\t1000 obs. of  6 variables:\n",
      " $ Date          : chr  \"2004-03-15T12:45:32Z\" \"2004-03-15T20:50:02Z\" \"2004-03-16T05:46:43Z\" \"2004-03-16T22:19:24Z\" ...\n",
      " $ Rank          : chr  \"E\" \"F\" \"E\" \"D\" ...\n",
      " $ State         : chr  \"NH\" \"MO\" \"MT\" \"LA\" ...\n",
      " $ Output        : num  212 210 211 209 206 ...\n",
      " $ Date2         : POSIXct, format: \"2004-03-15\" \"2004-03-15\" ...\n",
      " $ DaysSinceStart: num  0 0 1 1 2 2 3 3 4 4 ...\n"
     ]
    }
   ],
   "source": [
    "sampledata$Date2 <- as.POSIXct(sampledata$Date)\n",
    "firstdate <- head(sampledata$Date2,1)\n",
    "\n",
    "sampledata$DaysSinceStart <- as.numeric(difftime(sampledata$Date2, firstdate, units = \"hours\")/24)\n",
    "str(sampledata)"
   ]
  },
  {
   "cell_type": "markdown",
   "metadata": {},
   "source": [
    "## Ordered Categorical Values\n",
    "\n",
    "The 'Rank' column are ranked categorical values where the ranking matters on a linear scale. So we can create a categorical column for these values right away. We are lucky here that the values are in alphabetical order - R picks up that order for us."
   ]
  },
  {
   "cell_type": "code",
   "execution_count": 3,
   "metadata": {
    "collapsed": false
   },
   "outputs": [
    {
     "name": "stdout",
     "output_type": "stream",
     "text": [
      " [1] E F E D D E C B B C\n",
      "Levels: A < B < C < D < E < F\n",
      " [1] 5 6 5 4 4 5 3 2 2 3\n"
     ]
    }
   ],
   "source": [
    "sampledata$CatRank <- factor(sampledata$Rank, ordered=TRUE)\n",
    "print(sampledata$CatRank[1:10])\n",
    "print(as.numeric(sampledata$CatRank[1:10]))"
   ]
  },
  {
   "cell_type": "markdown",
   "metadata": {},
   "source": [
    "## Unordered Categorical Values\n",
    "\n",
    "Let's now put the states into a categorical column. Even though R will sort them, there is no real 'rank' for the states"
   ]
  },
  {
   "cell_type": "code",
   "execution_count": 4,
   "metadata": {
    "collapsed": false
   },
   "outputs": [
    {
     "name": "stdout",
     "output_type": "stream",
     "text": [
      " [1] NH MO MT LA MD ME KY MO VT RI\n",
      "50 Levels: AK AL AR AZ CA CO CT DE FL GA HI IA ID IL IN KS KY LA MA MD ... WY\n",
      " [1] 30 24 26 18 20 21 17 24 46 39\n"
     ]
    }
   ],
   "source": [
    "sampledata$CatState <- factor(sampledata$State)\n",
    "print(sampledata$CatState[1:10])\n",
    "print(as.numeric(sampledata$CatState[1:10]))"
   ]
  },
  {
   "cell_type": "markdown",
   "metadata": {},
   "source": [
    "## Modeling with Categorical Data\n",
    "\n",
    "Let's split the dataset and try modeling - we want to predict the output value. We need the categorical codes as columns to do this, so we'll take care of that part first."
   ]
  },
  {
   "cell_type": "code",
   "execution_count": 5,
   "metadata": {
    "collapsed": false
   },
   "outputs": [
    {
     "data": {
      "text/html": [
       "<ol class=list-inline>\n",
       "\t<li>'Date'</li>\n",
       "\t<li>'Rank'</li>\n",
       "\t<li>'State'</li>\n",
       "\t<li>'Output'</li>\n",
       "\t<li>'Date2'</li>\n",
       "\t<li>'DaysSinceStart'</li>\n",
       "\t<li>'CatRank'</li>\n",
       "\t<li>'CatState'</li>\n",
       "\t<li>'RankCode'</li>\n",
       "\t<li>'StateCode'</li>\n",
       "</ol>\n"
      ],
      "text/latex": [
       "\\begin{enumerate*}\n",
       "\\item 'Date'\n",
       "\\item 'Rank'\n",
       "\\item 'State'\n",
       "\\item 'Output'\n",
       "\\item 'Date2'\n",
       "\\item 'DaysSinceStart'\n",
       "\\item 'CatRank'\n",
       "\\item 'CatState'\n",
       "\\item 'RankCode'\n",
       "\\item 'StateCode'\n",
       "\\end{enumerate*}\n"
      ],
      "text/markdown": [
       "1. 'Date'\n",
       "2. 'Rank'\n",
       "3. 'State'\n",
       "4. 'Output'\n",
       "5. 'Date2'\n",
       "6. 'DaysSinceStart'\n",
       "7. 'CatRank'\n",
       "8. 'CatState'\n",
       "9. 'RankCode'\n",
       "10. 'StateCode'\n",
       "\n",
       "\n"
      ],
      "text/plain": [
       " [1] \"Date\"           \"Rank\"           \"State\"          \"Output\"        \n",
       " [5] \"Date2\"          \"DaysSinceStart\" \"CatRank\"        \"CatState\"      \n",
       " [9] \"RankCode\"       \"StateCode\"     "
      ]
     },
     "metadata": {},
     "output_type": "display_data"
    }
   ],
   "source": [
    "sampledata$RankCode <- as.numeric(sampledata$CatRank)\n",
    "sampledata$StateCode <- as.numeric(sampledata$CatState)\n",
    "names(sampledata)"
   ]
  },
  {
   "cell_type": "code",
   "execution_count": 6,
   "metadata": {
    "collapsed": false
   },
   "outputs": [],
   "source": [
    "set.seed(23)\n",
    "\n",
    "trainIndex <- sample(seq(nrow(sampledata)), nrow(sampledata)*0.8)\n",
    "\n",
    "train1 <- sampledata[trainIndex, ]\n",
    "test1 <- sampledata[-trainIndex, ]\n",
    "\n",
    "# Step 2: Create linear regression object\n",
    "inputcolumns <- c('DaysSinceStart', 'RankCode','StateCode')\n",
    "lmformula <- as.formula(paste('Output ~',paste(inputcolumns, collapse='+')))\n",
    "\n",
    "# Step 2: Fit the model\n",
    "regr1 <- lm(lmformula, train1)"
   ]
  },
  {
   "cell_type": "code",
   "execution_count": 7,
   "metadata": {
    "collapsed": false
   },
   "outputs": [
    {
     "name": "stdout",
     "output_type": "stream",
     "text": [
      "[1] \"RMS Error: 3.52302610126192\"\n"
     ]
    },
    {
     "data": {
      "image/png": "[encoded data removed]",
      "text/plain": [
       "plot without title"
      ]
     },
     "metadata": {},
     "output_type": "display_data"
    }
   ],
   "source": [
    "# Step 3: Get the predictions\n",
    "predictions <- predict(regr1,test1)\n",
    "actuals <- test1$Output\n",
    "\n",
    "# Step 4: Plot the results\n",
    "plot(test1$DaysSinceStart,actuals, pch=15, col=\"blue\", xlab=\"DaysSinceStart\",  ylab=\"Output\")\n",
    "\n",
    "points(test1$DaysSinceStart,predictions, pch=15, col=\"red\", xlab=\"DaysSinceStart\",  ylab=\"Output\")\n",
    "\n",
    "# Add a legend\n",
    "legend(0,2.4, # places a legend at the appropriate place\n",
    "       c(\"Actuals\",\"Predictions\"), # puts text in the legend\n",
    "       pch=c(15,15), # Sets the symbol correctly for the point and line\n",
    "       col=c(\"blue\",\"red\")) # gives the legend lines the correct color and width\n",
    "\n",
    "# Step 7: Get the RMS value\n",
    "print(paste(\"RMS Error:\",sqrt(mean((predictions-actuals)^2))))"
   ]
  },
  {
   "cell_type": "markdown",
   "metadata": {},
   "source": [
    "So we see that this didn't do a very good job to start with. However, that's not surprising as it used the states as a ranked categorical value when they obviously aren't.\n",
    "\n",
    "\n",
    "## Using Unranked categorical values\n",
    "\n",
    "What we want is called a **dummy variable**. It will tell the machine learning algorithm to look at whether an entry is one of the states or not. Here's basically how it works. Suppose we have two categories: red and blue. Our categorical column may look like this:\n",
    "\n",
    "| Row | Color |\n",
    "|--- |---|\n",
    "|0 | red |\n",
    "| 1 | red |\n",
    "| 2 | blue |\n",
    "|3 | red |\n",
    "\n",
    "What we want are two new columns that identify whether the row belongs in one of the categories. We'll use `1` when it belongs and `0` when it doesn't. This is what we get:\n",
    "\n",
    "| Row | IsRed | IsBlue |\n",
    "| --- | --- | ---|\n",
    "| 0 | 1 | 0 |\n",
    "| 1 | 1 | 0 |\n",
    "| 2 | 0 | 1 | \n",
    "| 3 | 1 | 0 |\n",
    "\n",
    "\n",
    "We now use these new dummy variable columns as the inputs: they are binary and will only have a 1 value where the original row matched up with the category column. We will use the `mlr` library that has this functionality built in.\n"
   ]
  },
  {
   "cell_type": "code",
   "execution_count": 8,
   "metadata": {
    "collapsed": false
   },
   "outputs": [
    {
     "name": "stderr",
     "output_type": "stream",
     "text": [
      "Warning message:\n",
      "\"package 'mlr' was built under R version 3.3.3\"Loading required package: ParamHelpers\n",
      "Warning message:\n",
      "\"package 'ParamHelpers' was built under R version 3.3.3\""
     ]
    },
    {
     "data": {
      "text/html": [
       "<table>\n",
       "<thead><tr><th scope=col>S_AK</th><th scope=col>S_AL</th><th scope=col>S_AR</th><th scope=col>S_AZ</th><th scope=col>S_CA</th><th scope=col>S_CO</th><th scope=col>S_CT</th><th scope=col>S_DE</th><th scope=col>S_FL</th><th scope=col>S_GA</th><th scope=col>...</th><th scope=col>S_SD</th><th scope=col>S_TN</th><th scope=col>S_TX</th><th scope=col>S_UT</th><th scope=col>S_VA</th><th scope=col>S_VT</th><th scope=col>S_WA</th><th scope=col>S_WI</th><th scope=col>S_WV</th><th scope=col>S_WY</th></tr></thead>\n",
       "<tbody>\n",
       "\t<tr><td>0  </td><td>0  </td><td>0  </td><td>0  </td><td>0  </td><td>0  </td><td>0  </td><td>0  </td><td>0  </td><td>0  </td><td>...</td><td>0  </td><td>0  </td><td>0  </td><td>0  </td><td>0  </td><td>0  </td><td>0  </td><td>0  </td><td>0  </td><td>0  </td></tr>\n",
       "\t<tr><td>0  </td><td>0  </td><td>0  </td><td>0  </td><td>0  </td><td>0  </td><td>0  </td><td>0  </td><td>0  </td><td>0  </td><td>...</td><td>0  </td><td>0  </td><td>0  </td><td>0  </td><td>0  </td><td>0  </td><td>0  </td><td>0  </td><td>0  </td><td>0  </td></tr>\n",
       "\t<tr><td>0  </td><td>0  </td><td>0  </td><td>0  </td><td>0  </td><td>0  </td><td>0  </td><td>0  </td><td>0  </td><td>0  </td><td>...</td><td>0  </td><td>0  </td><td>0  </td><td>0  </td><td>0  </td><td>0  </td><td>0  </td><td>0  </td><td>0  </td><td>0  </td></tr>\n",
       "\t<tr><td>0  </td><td>0  </td><td>0  </td><td>0  </td><td>0  </td><td>0  </td><td>0  </td><td>0  </td><td>0  </td><td>0  </td><td>...</td><td>0  </td><td>0  </td><td>0  </td><td>0  </td><td>0  </td><td>0  </td><td>0  </td><td>0  </td><td>0  </td><td>0  </td></tr>\n",
       "\t<tr><td>0  </td><td>0  </td><td>0  </td><td>0  </td><td>0  </td><td>0  </td><td>0  </td><td>0  </td><td>0  </td><td>0  </td><td>...</td><td>0  </td><td>0  </td><td>0  </td><td>0  </td><td>0  </td><td>0  </td><td>0  </td><td>0  </td><td>0  </td><td>0  </td></tr>\n",
       "\t<tr><td>0  </td><td>0  </td><td>0  </td><td>0  </td><td>0  </td><td>0  </td><td>0  </td><td>0  </td><td>0  </td><td>0  </td><td>...</td><td>0  </td><td>0  </td><td>0  </td><td>0  </td><td>0  </td><td>0  </td><td>0  </td><td>0  </td><td>0  </td><td>0  </td></tr>\n",
       "</tbody>\n",
       "</table>\n"
      ],
      "text/latex": [
       "\\begin{tabular}{r|llllllllllllllllllllllllllllllllllllllllllllllllll}\n",
       " S\\_AK & S\\_AL & S\\_AR & S\\_AZ & S\\_CA & S\\_CO & S\\_CT & S\\_DE & S\\_FL & S\\_GA & ... & S\\_SD & S\\_TN & S\\_TX & S\\_UT & S\\_VA & S\\_VT & S\\_WA & S\\_WI & S\\_WV & S\\_WY\\\\\n",
       "\\hline\n",
       "\t 0   & 0   & 0   & 0   & 0   & 0   & 0   & 0   & 0   & 0   & ... & 0   & 0   & 0   & 0   & 0   & 0   & 0   & 0   & 0   & 0  \\\\\n",
       "\t 0   & 0   & 0   & 0   & 0   & 0   & 0   & 0   & 0   & 0   & ... & 0   & 0   & 0   & 0   & 0   & 0   & 0   & 0   & 0   & 0  \\\\\n",
       "\t 0   & 0   & 0   & 0   & 0   & 0   & 0   & 0   & 0   & 0   & ... & 0   & 0   & 0   & 0   & 0   & 0   & 0   & 0   & 0   & 0  \\\\\n",
       "\t 0   & 0   & 0   & 0   & 0   & 0   & 0   & 0   & 0   & 0   & ... & 0   & 0   & 0   & 0   & 0   & 0   & 0   & 0   & 0   & 0  \\\\\n",
       "\t 0   & 0   & 0   & 0   & 0   & 0   & 0   & 0   & 0   & 0   & ... & 0   & 0   & 0   & 0   & 0   & 0   & 0   & 0   & 0   & 0  \\\\\n",
       "\t 0   & 0   & 0   & 0   & 0   & 0   & 0   & 0   & 0   & 0   & ... & 0   & 0   & 0   & 0   & 0   & 0   & 0   & 0   & 0   & 0  \\\\\n",
       "\\end{tabular}\n"
      ],
      "text/markdown": [
       "\n",
       "S_AK | S_AL | S_AR | S_AZ | S_CA | S_CO | S_CT | S_DE | S_FL | S_GA | ... | S_SD | S_TN | S_TX | S_UT | S_VA | S_VT | S_WA | S_WI | S_WV | S_WY | \n",
       "|---|---|---|---|---|---|\n",
       "| 0   | 0   | 0   | 0   | 0   | 0   | 0   | 0   | 0   | 0   | ... | 0   | 0   | 0   | 0   | 0   | 0   | 0   | 0   | 0   | 0   | \n",
       "| 0   | 0   | 0   | 0   | 0   | 0   | 0   | 0   | 0   | 0   | ... | 0   | 0   | 0   | 0   | 0   | 0   | 0   | 0   | 0   | 0   | \n",
       "| 0   | 0   | 0   | 0   | 0   | 0   | 0   | 0   | 0   | 0   | ... | 0   | 0   | 0   | 0   | 0   | 0   | 0   | 0   | 0   | 0   | \n",
       "| 0   | 0   | 0   | 0   | 0   | 0   | 0   | 0   | 0   | 0   | ... | 0   | 0   | 0   | 0   | 0   | 0   | 0   | 0   | 0   | 0   | \n",
       "| 0   | 0   | 0   | 0   | 0   | 0   | 0   | 0   | 0   | 0   | ... | 0   | 0   | 0   | 0   | 0   | 0   | 0   | 0   | 0   | 0   | \n",
       "| 0   | 0   | 0   | 0   | 0   | 0   | 0   | 0   | 0   | 0   | ... | 0   | 0   | 0   | 0   | 0   | 0   | 0   | 0   | 0   | 0   | \n",
       "\n",
       "\n"
      ],
      "text/plain": [
       "  S_AK S_AL S_AR S_AZ S_CA S_CO S_CT S_DE S_FL S_GA ... S_SD S_TN S_TX S_UT\n",
       "1 0    0    0    0    0    0    0    0    0    0    ... 0    0    0    0   \n",
       "2 0    0    0    0    0    0    0    0    0    0    ... 0    0    0    0   \n",
       "3 0    0    0    0    0    0    0    0    0    0    ... 0    0    0    0   \n",
       "4 0    0    0    0    0    0    0    0    0    0    ... 0    0    0    0   \n",
       "5 0    0    0    0    0    0    0    0    0    0    ... 0    0    0    0   \n",
       "6 0    0    0    0    0    0    0    0    0    0    ... 0    0    0    0   \n",
       "  S_VA S_VT S_WA S_WI S_WV S_WY\n",
       "1 0    0    0    0    0    0   \n",
       "2 0    0    0    0    0    0   \n",
       "3 0    0    0    0    0    0   \n",
       "4 0    0    0    0    0    0   \n",
       "5 0    0    0    0    0    0   \n",
       "6 0    0    0    0    0    0   "
      ]
     },
     "metadata": {},
     "output_type": "display_data"
    }
   ],
   "source": [
    "library(mlr)\n",
    "dummydf <- createDummyFeatures(sampledata$CatState)\n",
    "colnames(dummydf) <- paste(\"S\", colnames(dummydf), sep = \"_\")\n",
    "head(dummydf)"
   ]
  },
  {
   "cell_type": "markdown",
   "metadata": {},
   "source": [
    "We now want to join this back with the original set of features so that we can use it instead of the ranked column of data. Here's one way to do that."
   ]
  },
  {
   "cell_type": "code",
   "execution_count": 9,
   "metadata": {
    "collapsed": false
   },
   "outputs": [
    {
     "data": {
      "text/html": [
       "<table>\n",
       "<thead><tr><th scope=col>Date</th><th scope=col>Rank</th><th scope=col>State</th><th scope=col>Output</th><th scope=col>Date2</th><th scope=col>DaysSinceStart</th><th scope=col>CatRank</th><th scope=col>CatState</th><th scope=col>RankCode</th><th scope=col>StateCode</th><th scope=col>...</th><th scope=col>S_SD</th><th scope=col>S_TN</th><th scope=col>S_TX</th><th scope=col>S_UT</th><th scope=col>S_VA</th><th scope=col>S_VT</th><th scope=col>S_WA</th><th scope=col>S_WI</th><th scope=col>S_WV</th><th scope=col>S_WY</th></tr></thead>\n",
       "<tbody>\n",
       "\t<tr><td>2004-03-15T12:45:32Z</td><td>E                   </td><td>NH                  </td><td>211.8134            </td><td>2004-03-15          </td><td>0                   </td><td>E                   </td><td>NH                  </td><td>5                   </td><td>30                  </td><td>...                 </td><td>0                   </td><td>0                   </td><td>0                   </td><td>0                   </td><td>0                   </td><td>0                   </td><td>0                   </td><td>0                   </td><td>0                   </td><td>0                   </td></tr>\n",
       "\t<tr><td>2004-03-15T20:50:02Z</td><td>F                   </td><td>MO                  </td><td>210.2189            </td><td>2004-03-15          </td><td>0                   </td><td>F                   </td><td>MO                  </td><td>6                   </td><td>24                  </td><td>...                 </td><td>0                   </td><td>0                   </td><td>0                   </td><td>0                   </td><td>0                   </td><td>0                   </td><td>0                   </td><td>0                   </td><td>0                   </td><td>0                   </td></tr>\n",
       "\t<tr><td>2004-03-16T05:46:43Z</td><td>E                   </td><td>MT                  </td><td>210.9158            </td><td>2004-03-16          </td><td>1                   </td><td>E                   </td><td>MT                  </td><td>5                   </td><td>26                  </td><td>...                 </td><td>0                   </td><td>0                   </td><td>0                   </td><td>0                   </td><td>0                   </td><td>0                   </td><td>0                   </td><td>0                   </td><td>0                   </td><td>0                   </td></tr>\n",
       "\t<tr><td>2004-03-16T22:19:24Z</td><td>D                   </td><td>LA                  </td><td>209.3553            </td><td>2004-03-16          </td><td>1                   </td><td>D                   </td><td>LA                  </td><td>4                   </td><td>18                  </td><td>...                 </td><td>0                   </td><td>0                   </td><td>0                   </td><td>0                   </td><td>0                   </td><td>0                   </td><td>0                   </td><td>0                   </td><td>0                   </td><td>0                   </td></tr>\n",
       "\t<tr><td>2004-03-17T05:01:51Z</td><td>D                   </td><td>MD                  </td><td>205.6534            </td><td>2004-03-17          </td><td>2                   </td><td>D                   </td><td>MD                  </td><td>4                   </td><td>20                  </td><td>...                 </td><td>0                   </td><td>0                   </td><td>0                   </td><td>0                   </td><td>0                   </td><td>0                   </td><td>0                   </td><td>0                   </td><td>0                   </td><td>0                   </td></tr>\n",
       "\t<tr><td>2004-03-17T13:41:21Z</td><td>E                   </td><td>ME                  </td><td>209.5376            </td><td>2004-03-17          </td><td>2                   </td><td>E                   </td><td>ME                  </td><td>5                   </td><td>21                  </td><td>...                 </td><td>0                   </td><td>0                   </td><td>0                   </td><td>0                   </td><td>0                   </td><td>0                   </td><td>0                   </td><td>0                   </td><td>0                   </td><td>0                   </td></tr>\n",
       "</tbody>\n",
       "</table>\n"
      ],
      "text/latex": [
       "\\begin{tabular}{r|llllllllllllllllllllllllllllllllllllllllllllllllllllllllllll}\n",
       " Date & Rank & State & Output & Date2 & DaysSinceStart & CatRank & CatState & RankCode & StateCode & ... & S\\_SD & S\\_TN & S\\_TX & S\\_UT & S\\_VA & S\\_VT & S\\_WA & S\\_WI & S\\_WV & S\\_WY\\\\\n",
       "\\hline\n",
       "\t 2004-03-15T12:45:32Z & E                    & NH                   & 211.8134             & 2004-03-15           & 0                    & E                    & NH                   & 5                    & 30                   & ...                  & 0                    & 0                    & 0                    & 0                    & 0                    & 0                    & 0                    & 0                    & 0                    & 0                   \\\\\n",
       "\t 2004-03-15T20:50:02Z & F                    & MO                   & 210.2189             & 2004-03-15           & 0                    & F                    & MO                   & 6                    & 24                   & ...                  & 0                    & 0                    & 0                    & 0                    & 0                    & 0                    & 0                    & 0                    & 0                    & 0                   \\\\\n",
       "\t 2004-03-16T05:46:43Z & E                    & MT                   & 210.9158             & 2004-03-16           & 1                    & E                    & MT                   & 5                    & 26                   & ...                  & 0                    & 0                    & 0                    & 0                    & 0                    & 0                    & 0                    & 0                    & 0                    & 0                   \\\\\n",
       "\t 2004-03-16T22:19:24Z & D                    & LA                   & 209.3553             & 2004-03-16           & 1                    & D                    & LA                   & 4                    & 18                   & ...                  & 0                    & 0                    & 0                    & 0                    & 0                    & 0                    & 0                    & 0                    & 0                    & 0                   \\\\\n",
       "\t 2004-03-17T05:01:51Z & D                    & MD                   & 205.6534             & 2004-03-17           & 2                    & D                    & MD                   & 4                    & 20                   & ...                  & 0                    & 0                    & 0                    & 0                    & 0                    & 0                    & 0                    & 0                    & 0                    & 0                   \\\\\n",
       "\t 2004-03-17T13:41:21Z & E                    & ME                   & 209.5376             & 2004-03-17           & 2                    & E                    & ME                   & 5                    & 21                   & ...                  & 0                    & 0                    & 0                    & 0                    & 0                    & 0                    & 0                    & 0                    & 0                    & 0                   \\\\\n",
       "\\end{tabular}\n"
      ],
      "text/markdown": [
       "\n",
       "Date | Rank | State | Output | Date2 | DaysSinceStart | CatRank | CatState | RankCode | StateCode | ... | S_SD | S_TN | S_TX | S_UT | S_VA | S_VT | S_WA | S_WI | S_WV | S_WY | \n",
       "|---|---|---|---|---|---|\n",
       "| 2004-03-15T12:45:32Z | E                    | NH                   | 211.8134             | 2004-03-15           | 0                    | E                    | NH                   | 5                    | 30                   | ...                  | 0                    | 0                    | 0                    | 0                    | 0                    | 0                    | 0                    | 0                    | 0                    | 0                    | \n",
       "| 2004-03-15T20:50:02Z | F                    | MO                   | 210.2189             | 2004-03-15           | 0                    | F                    | MO                   | 6                    | 24                   | ...                  | 0                    | 0                    | 0                    | 0                    | 0                    | 0                    | 0                    | 0                    | 0                    | 0                    | \n",
       "| 2004-03-16T05:46:43Z | E                    | MT                   | 210.9158             | 2004-03-16           | 1                    | E                    | MT                   | 5                    | 26                   | ...                  | 0                    | 0                    | 0                    | 0                    | 0                    | 0                    | 0                    | 0                    | 0                    | 0                    | \n",
       "| 2004-03-16T22:19:24Z | D                    | LA                   | 209.3553             | 2004-03-16           | 1                    | D                    | LA                   | 4                    | 18                   | ...                  | 0                    | 0                    | 0                    | 0                    | 0                    | 0                    | 0                    | 0                    | 0                    | 0                    | \n",
       "| 2004-03-17T05:01:51Z | D                    | MD                   | 205.6534             | 2004-03-17           | 2                    | D                    | MD                   | 4                    | 20                   | ...                  | 0                    | 0                    | 0                    | 0                    | 0                    | 0                    | 0                    | 0                    | 0                    | 0                    | \n",
       "| 2004-03-17T13:41:21Z | E                    | ME                   | 209.5376             | 2004-03-17           | 2                    | E                    | ME                   | 5                    | 21                   | ...                  | 0                    | 0                    | 0                    | 0                    | 0                    | 0                    | 0                    | 0                    | 0                    | 0                    | \n",
       "\n",
       "\n"
      ],
      "text/plain": [
       "  Date                 Rank State Output   Date2      DaysSinceStart CatRank\n",
       "1 2004-03-15T12:45:32Z E    NH    211.8134 2004-03-15 0              E      \n",
       "2 2004-03-15T20:50:02Z F    MO    210.2189 2004-03-15 0              F      \n",
       "3 2004-03-16T05:46:43Z E    MT    210.9158 2004-03-16 1              E      \n",
       "4 2004-03-16T22:19:24Z D    LA    209.3553 2004-03-16 1              D      \n",
       "5 2004-03-17T05:01:51Z D    MD    205.6534 2004-03-17 2              D      \n",
       "6 2004-03-17T13:41:21Z E    ME    209.5376 2004-03-17 2              E      \n",
       "  CatState RankCode StateCode ... S_SD S_TN S_TX S_UT S_VA S_VT S_WA S_WI S_WV\n",
       "1 NH       5        30        ... 0    0    0    0    0    0    0    0    0   \n",
       "2 MO       6        24        ... 0    0    0    0    0    0    0    0    0   \n",
       "3 MT       5        26        ... 0    0    0    0    0    0    0    0    0   \n",
       "4 LA       4        18        ... 0    0    0    0    0    0    0    0    0   \n",
       "5 MD       4        20        ... 0    0    0    0    0    0    0    0    0   \n",
       "6 ME       5        21        ... 0    0    0    0    0    0    0    0    0   \n",
       "  S_WY\n",
       "1 0   \n",
       "2 0   \n",
       "3 0   \n",
       "4 0   \n",
       "5 0   \n",
       "6 0   "
      ]
     },
     "metadata": {},
     "output_type": "display_data"
    }
   ],
   "source": [
    "sampledata2 <- cbind(sampledata,dummydf)\n",
    "head(sampledata2)"
   ]
  },
  {
   "cell_type": "markdown",
   "metadata": {},
   "source": [
    "We now want to select out all 50 columns from the dummy variable. There is a python way to do this easily, since we used the prefix 'S\\_' for each of those columns "
   ]
  },
  {
   "cell_type": "code",
   "execution_count": 10,
   "metadata": {
    "collapsed": false
   },
   "outputs": [],
   "source": [
    "inputcolumns2 <- c('DaysSinceStart','RankCode',  grep(\"S_\",colnames(sampledata2),value=TRUE))\n",
    "\n",
    "trainIndex2 <- sample(seq(nrow(sampledata2)), nrow(sampledata2)*0.8)\n",
    "\n",
    "train2 <- sampledata2[trainIndex2, ]\n",
    "test2 <- sampledata2[-trainIndex2, ]\n",
    "\n",
    "lmformula2 <- as.formula(paste('Output ~',paste(inputcolumns2, collapse='+')))\n",
    "\n",
    "# Step 2: Fit the model\n",
    "regr2 <- lm(lmformula2, train2)"
   ]
  },
  {
   "cell_type": "code",
   "execution_count": 11,
   "metadata": {
    "collapsed": false
   },
   "outputs": [
    {
     "name": "stderr",
     "output_type": "stream",
     "text": [
      "Warning message in predict.lm(regr2, test2):\n",
      "\"prediction from a rank-deficient fit may be misleading\""
     ]
    },
    {
     "name": "stdout",
     "output_type": "stream",
     "text": [
      "[1] \"RMS Error: 1.23632439746239\"\n"
     ]
    },
    {
     "data": {
      "image/png": "[encoded data removed]",
      "text/plain": [
       "plot without title"
      ]
     },
     "metadata": {},
     "output_type": "display_data"
    }
   ],
   "source": [
    "# Step 3: Get the predictions\n",
    "predictions <- predict(regr2,test2)\n",
    "actuals <- test2$Output\n",
    "\n",
    "# Step 4: Plot the results\n",
    "plot(test2$DaysSinceStart,actuals, pch=15, col=\"blue\", xlab=\"DaysSinceStart\",  ylab=\"Output\")\n",
    "\n",
    "points(test2$DaysSinceStart,predictions, pch=15, col=\"red\", xlab=\"DaysSinceStart\",  ylab=\"Output\")\n",
    "\n",
    "# Add a legend\n",
    "legend(0,2.4, # places a legend at the appropriate place\n",
    "       c(\"Actuals\",\"Predictions\"), # puts text in the legend\n",
    "       pch=c(15,15), # Sets the symbol correctly for the point and line\n",
    "       col=c(\"blue\",\"red\")) # gives the legend lines the correct color and width\n",
    "\n",
    "# Step 7: Get the RMS value\n",
    "print(paste(\"RMS Error:\",sqrt(mean((predictions-actuals)^2))))"
   ]
  },
  {
   "cell_type": "markdown",
   "metadata": {},
   "source": [
    "So, you can see we did significantly better by changing the categorical column into a dummy variable. Take a look at your own datasets to see if this is what you should be doing."
   ]
  },
  {
   "cell_type": "code",
   "execution_count": null,
   "metadata": {
    "collapsed": true
   },
   "outputs": [],
   "source": []
  }
 ],
 "metadata": {
  "kernelspec": {
   "display_name": "R",
   "language": "R",
   "name": "ir"
  },
  "language_info": {
   "codemirror_mode": "r",
   "file_extension": ".r",
   "mimetype": "text/x-r-source",
   "name": "R",
   "pygments_lexer": "r",
   "version": "3.3.2"
  }
 },
 "nbformat": 4,
 "nbformat_minor": 0
}
