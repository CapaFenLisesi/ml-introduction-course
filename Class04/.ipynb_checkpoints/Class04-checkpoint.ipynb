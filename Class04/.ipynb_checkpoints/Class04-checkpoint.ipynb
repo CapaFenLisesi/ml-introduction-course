{
 "cells": [
  {
   "cell_type": "markdown",
   "metadata": {
    "collapsed": false
   },
   "source": [
    "# Class 04\n",
    "## ML Models: Naïve Bayes + Evaluation Metrics\n",
    "\n",
    "We are going to work with classifier models today. We start with a sample dataset from Sebastian Thrun's Udacity Machine Learning course. Here's the scenario: we are building a self-driving car. We have mapped out the course we are taking and created a dataset that indicates, on a scale from 0 to 1, how bumpy the road is and, on the same scale, how steep the road is (measured in \"grade\"). For each road we need to know whether we should have the car drive \"slow\" or \"fast\". For example, we want to slow down for bumpy roads. But we may want to speed up when we are going up steep hills. I've created a sample dataset from fake data that maps this out. We start by loading and plotting the data."
   ]
  },
  {
   "cell_type": "code",
   "execution_count": null,
   "metadata": {
    "collapsed": false
   },
   "outputs": [],
   "source": [
    "import pandas as pd\n",
    "import seaborn as sns\n",
    "sns.set_style(\"white\")\n",
    "\n",
    "#Note the new use of the dtype option here. We can directly tell pandas to use the Speed column as a category in one step.\n",
    "speeddf = pd.read_csv(\"Class04_speed_data.csv\",dtype={'Speed':'category'})\n",
    "\n",
    "#sns.lmplot(x='Grade', y='Bumpiness', data=speeddf, hue='Speed', fit_reg=False)\n",
    "sns.swarmplot(x=\"Grade\", y=\"Bumpiness\", data=speeddf, hue=\"Speed\", size=10)\n",
    "\n",
    "#sns.despine(top=False, right=False)"
   ]
  },
  {
   "cell_type": "markdown",
   "metadata": {},
   "source": [
    "We will start with a subset of this data to illustrate what we are trying to do here. We use the `sample()` function to get a small piece of the data (we use the random_state option to make sure we use the same set of data every time, otherwise the data will change)."
   ]
  },
  {
   "cell_type": "code",
   "execution_count": null,
   "metadata": {
    "collapsed": false
   },
   "outputs": [],
   "source": [
    "speedsub = speeddf.sample(16,random_state=55)\n",
    "sns.lmplot(x='Grade', y='Bumpiness', data=speedsub, hue='Speed', fit_reg=False)\n",
    "sns.despine(top=False, right=False)"
   ]
  },
  {
   "cell_type": "markdown",
   "metadata": {},
   "source": [
    "What we want to do is have the computer learn where the boundary lies between the fast data points and the slow data points. That way we can input in any grade and any bumpiness and the computer will tell us whether to go fast or slow. It looks like there is a region between the two sets of data where we could potentially put our boundary."
   ]
  },
  {
   "cell_type": "code",
   "execution_count": null,
   "metadata": {
    "collapsed": false
   },
   "outputs": [],
   "source": [
    "lm = sns.lmplot(x='Grade', y='Bumpiness', data=speedsub, hue='Speed', fit_reg=False)\n",
    "sns.despine(ax=lm.ax, top=False, right=False)\n",
    "\n",
    "from matplotlib.patches import Polygon\n",
    "from matplotlib.collections import PatchCollection\n",
    "patches=[]\n",
    "polygon = Polygon([[.92,0],[1,0],[1,.24],[0,.9],[0,.67]], True)\n",
    "patches.append(polygon)\n",
    "p = PatchCollection(patches, alpha=0.4)\n",
    "lm.ax.add_collection(p)"
   ]
  },
  {
   "cell_type": "markdown",
   "metadata": {},
   "source": [
    "How do we decide where in this region to put the boundary? There are a couple of different algorithms that will do the job for us. We're not going to spend time describing how they work - you can look them up if you are interested in the mathematics. Instead, we'll look at how to apply them and look at how well they work.\n",
    "\n",
    "## Perceptron\n",
    "\n",
    "The first algorithm is called the Perceptron (information on how it works is found on Wikipedia: https://en.wikipedia.org/wiki/Perceptron#Learning_algorithm). The documentation for the Scikit Learn Perceptron is found [here](http://scikit-learn.org/stable/modules/generated/sklearn.linear_model.Perceptron.html). We'll use a syntax very similar to the pattern we used in Class02. First, we split the data into training and testing sets."
   ]
  },
  {
   "cell_type": "code",
   "execution_count": null,
   "metadata": {
    "collapsed": false
   },
   "outputs": [],
   "source": [
    "from sklearn.model_selection import train_test_split\n",
    "\n",
    "trainsub, testsub = train_test_split(speedsub, test_size=0.2, random_state=23)"
   ]
  },
  {
   "cell_type": "markdown",
   "metadata": {},
   "source": [
    "Now we import the model and train it, just like we did with the linear regression."
   ]
  },
  {
   "cell_type": "code",
   "execution_count": null,
   "metadata": {
    "collapsed": false
   },
   "outputs": [],
   "source": [
    "from sklearn.linear_model import Perceptron\n",
    "\n",
    "# Step 1: Create linear regression object\n",
    "model = Perceptron()\n",
    "\n",
    "# Step 2: Train the model using the training sets\n",
    "features = trainsub[['Grade','Bumpiness']].values\n",
    "labels = trainsub['Speed'].values\n",
    "\n",
    "model.fit(features,labels)\n",
    "print(\"Model Coefficients: {}\".format(model.coef_))\n",
    "print(\"Model Intercept: {}\".format(model.intercept_))"
   ]
  },
  {
   "cell_type": "markdown",
   "metadata": {},
   "source": [
    "We would like to visualize the decision boundary between the two classes. There are a couple of ways we could do this. For linear models like the perceptron, we can get the coefficients from the model and then plot them as a line. There are a couple of other steps to this, but fortunately, there is [code](http://stackoverflow.com/questions/22294241/plotting-a-decision-boundary-separating-2-classes-using-matplotlibs-pyplot) to help us figure it out."
   ]
  },
  {
   "cell_type": "code",
   "execution_count": null,
   "metadata": {
    "collapsed": false
   },
   "outputs": [],
   "source": [
    "import matplotlib.pyplot as plt\n",
    "import numpy as np\n",
    "w = model.coef_[0]\n",
    "a = -w[0] / w[1]\n",
    "xx = np.linspace(0,1)\n",
    "yy = a * xx - (model.intercept_[0]) / w[1]\n",
    "\n",
    "# Plot the points\n",
    "lm2 = sns.lmplot(x='Grade', y='Bumpiness', data=speedsub, hue='Speed', fit_reg=False)\n",
    "sns.despine(ax=lm2.ax, top=False, right=False)\n",
    "\n",
    "# Plot our range estimate\n",
    "p2 = PatchCollection(patches, alpha=0.4)\n",
    "lm2.ax.add_collection(p2)\n",
    "\n",
    "# Plot the actual decision boundary\n",
    "plt.plot(xx, yy, 'k-')\n",
    "\n"
   ]
  },
  {
   "cell_type": "markdown",
   "metadata": {},
   "source": [
    "Note that the line isn't very good - remember that we only used a subset of the data to fit the decision boundary. But it still lies in the expected range.\n",
    "\n",
    "There is another way we could plot this: we could split our figure into small boxes, then make a prediction for each box. We then plot all the decisions in two different colors, showing the prediction for each box. This gives us a more general tool for plotting not only linear boundaries, but any possible decision boundary."
   ]
  },
  {
   "cell_type": "code",
   "execution_count": null,
   "metadata": {
    "collapsed": false
   },
   "outputs": [],
   "source": [
    "\n",
    "# Plot the decision boundary. For that, we will assign a color to each\n",
    "# point in the mesh\n",
    "x_min = 0.0; x_max = 1.0 # Mesh x size\n",
    "y_min = 0.0; y_max = 1.0  # Mesh y size\n",
    "h = .01  # step size in the mesh\n",
    "xx, yy = np.meshgrid(np.arange(x_min, x_max, h), np.arange(y_min, y_max, h))\n",
    "\n",
    "# Now predict the results at each point and get the categorical values\n",
    "Zpred = model.predict(np.c_[xx.ravel(), yy.ravel()])\n",
    "Zseries = pd.Series(Zpred, dtype='category')\n",
    "Zvalues = Zseries.cat.codes.values\n",
    "Z = Zvalues.reshape(xx.shape)\n",
    "\n",
    "\n",
    "# First plot our points\n",
    "lm2 = sns.lmplot(x='Grade', y='Bumpiness', data=speedsub, hue='Speed', fit_reg=False)\n",
    "sns.despine(ax=lm2.ax, top=False, right=False)\n",
    "\n",
    "# Now add in the decision boundary\n",
    "plt.pcolormesh(xx, yy, Z, cmap= plt.cm.cool, alpha=0.1)"
   ]
  },
  {
   "cell_type": "markdown",
   "metadata": {},
   "source": [
    "At this point, let's go back to the entire test dataset and fit the decision boundary for it. We'll also look at the out-of-sample performance by plotting the test data instead of the train data."
   ]
  },
  {
   "cell_type": "code",
   "execution_count": null,
   "metadata": {
    "collapsed": false
   },
   "outputs": [],
   "source": [
    "train, test = train_test_split(speeddf, test_size=0.2, random_state=23)\n",
    "\n",
    "model2 = Perceptron()\n",
    "\n",
    "features_train = train[['Grade','Bumpiness']].values\n",
    "labels_train = train['Speed'].values\n",
    "features_test = test[['Grade','Bumpiness']].values\n",
    "labels_test = test['Speed'].values\n",
    "\n",
    "model2.fit(features_train,labels_train)\n",
    "\n",
    "Zpred = pd.Series(model2.predict(np.c_[xx.ravel(), yy.ravel()]), dtype='category').cat.codes.values\n",
    "Z = Zpred.reshape(xx.shape)\n",
    "\n",
    "# First plot our points\n",
    "lm = sns.lmplot(x='Grade', y='Bumpiness', data=test, hue='Speed', fit_reg=False)\n",
    "sns.despine(ax=lm.ax, top=False, right=False)\n",
    "plt.pcolormesh(xx, yy, Z, cmap= plt.cm.cool, alpha=0.1)"
   ]
  },
  {
   "cell_type": "markdown",
   "metadata": {},
   "source": [
    "So, there are a few things to note here. First, the Perceptron has given us a boundary that works fairly well. However, it isn't perfect. There are a few points that are labeled \"fast\" that will now be classified as \"slow\". It would be nice to have a way to quantify how well the classifier has performed. We'll look at a new set of tools to do that."
   ]
  },
  {
   "cell_type": "markdown",
   "metadata": {},
   "source": [
    "## Evaluation Metrics\n",
    "\n",
    "First, we review the evaluation metric we've already seen: the RMS value for the linear regression. Recall from Class 02 that we calculated this by taking our model prediction, subtracting the actual value, squaring the difference, then averaging over all points in the test set. Finally, we took the square root of this to get the RMS: \"[Square]Root [of the] Mean-Squared\". A perfect fit would give an RMS of 0.0 and larger RMS values mean that the fit is not performing as well.\n",
    "\n",
    "There are more ways to evaluate the performance of a classifier model. They all start with the confusion matrix, so we'll start there.\n",
    "\n",
    "### The Confusion Matrix\n",
    "\n",
    "The first thing we do is recognize that there are, for a binary, or two-state classifier, four possible outcomes when we evaluate each test point:\n",
    "1. The prediction says \"slow\" and the actual label says \"slow\"\n",
    "2. The prediction says \"fast\", but the actual label says \"slow\"\n",
    "3. The prediction says \"slow\", but the actual label says \"fast\"\n",
    "1. The prediction says \"fast\" and the actual label says \"fast\"\n",
    "\n",
    "\n",
    "The first and last possibilies indicate that the prediction did a good job, but the other two mean there were problems. Let's make this into a table:\n",
    "\n",
    "\n",
    "|           | | Predicted | Predicted|\n",
    "|:--------: |:-----:|:-----:|:-----:|\n",
    "|  | |  Slow | Fast | \n",
    "|**Actual**\t|Slow | #1  | #2 |\n",
    "|**Actual**\t| Fast | #3 | #4 | | \n",
    "\n",
    "Now we need to count how many of each possibility there were using the test data. There is, naturally, a tool to do this for us.\n"
   ]
  },
  {
   "cell_type": "code",
   "execution_count": null,
   "metadata": {
    "collapsed": false
   },
   "outputs": [],
   "source": [
    "from sklearn.metrics import confusion_matrix\n",
    "class_labels = [\"slow\", \"fast\"]\n",
    "y_pred = model2.predict(features_test)\n",
    "cnf_matrix = confusion_matrix(labels_test, y_pred,labels=class_labels)\n",
    "print(cnf_matrix)"
   ]
  },
  {
   "cell_type": "markdown",
   "metadata": {},
   "source": [
    "We can also visualize this as a graphic, showing a shade of color for each of the different values. This is especially useful when we have more than two classes. Because we'll use this again, we define a function that takes the class labels and confusion matrix as inputs and creates the plot."
   ]
  },
  {
   "cell_type": "code",
   "execution_count": null,
   "metadata": {
    "collapsed": false
   },
   "outputs": [],
   "source": [
    "def show_confusion_matrix(cnf_matrix, class_labels):\n",
    "    plt.matshow(cnf_matrix,cmap=plt.cm.YlGn,alpha=0.7)\n",
    "    ax = plt.gca()\n",
    "    ax.set_xlabel('Predicted Label', fontsize=16)\n",
    "    ax.set_xticks(range(0,len(class_labels)))\n",
    "    ax.set_xticklabels(class_labels)\n",
    "    ax.set_ylabel('Actual Label', fontsize=16, rotation=90)\n",
    "    ax.set_yticks(range(0,len(class_labels)))\n",
    "    ax.set_yticklabels(class_labels)\n",
    "    ax.xaxis.set_label_position('top')\n",
    "    ax.xaxis.tick_top()\n",
    "\n",
    "    for row in range(len(cnf_matrix)):\n",
    "        for col in range(len(cnf_matrix[row])):\n",
    "            ax.text(col, row, cnf_matrix[row][col], va='center', ha='center', fontsize=16)\n",
    "        \n",
    "show_confusion_matrix(cnf_matrix,class_labels)"
   ]
  },
  {
   "cell_type": "markdown",
   "metadata": {
    "collapsed": true
   },
   "source": [
    "We can see now that the diagonal entries are what we want- the darker they are, the better we are doing. The off-diagonal terms (the slow-fast and fast-slow terms) are points that have been incorrectly identified. It would be nice if we could distill this matrix down into a single number. Unfortunately, there is no unique way of doing that. There are a couple of different metrics that people use and we can quickly go through them. There is a nice summary [here](http://www.kdnuggets.com/2016/12/best-metric-measure-accuracy-classification-models.html) of some of the metrics and how people use them.\n",
    "\n",
    "#### Class-dependent Metrics\n",
    "\n",
    "The first three metrics depend on what your target is. For example, with the Sensitivity/Recall score, the goal is to either correctly predict when to go slow or to correctly predict when to go fast. So there are two outputs from the score, depending on which is more important to you. Of course you could average them if you want and get something in the middle.\n",
    "\n",
    "#### Class-independent Metrics\n",
    "\n",
    "The last two metrics take all the possibilities into account and wrap them up as a single number. Which metric you use is something of a personal preference. However, it is good practice to use the same metric when comparing different models."
   ]
  },
  {
   "cell_type": "code",
   "execution_count": null,
   "metadata": {
    "collapsed": false
   },
   "outputs": [],
   "source": [
    "import sklearn.metrics as metrics\n",
    "\n",
    "recall_score = metrics.recall_score(labels_test, y_pred,labels=class_labels,average=None)\n",
    "prec_score = metrics.precision_score(labels_test, y_pred,labels=class_labels,average=None)\n",
    "f1_score = metrics.f1_score(labels_test, y_pred,labels=class_labels,average=None)\n",
    "\n",
    "acc_score = metrics.accuracy_score(labels_test, y_pred)\n",
    "matt_score = metrics.matthews_corrcoef(labels_test, y_pred)\n",
    "\n",
    "print(\"Class-dependent Metrics\")\n",
    "print(\"Sensitivity/Recall Score: {}\".format(recall_score))\n",
    "\n",
    "print(\"Precision Score: {}\".format(prec_score))\n",
    "print(\"F1 Score: {}\".format(f1_score))\n",
    "\n",
    "print(\"\\nClass-independent Metrics\")\n",
    "print(\"Accuracy Score: {}\".format(acc_score))\n",
    "print(\"Matthews Correlation Coefficient (MCC): {}\".format(matt_score))\n"
   ]
  },
  {
   "cell_type": "markdown",
   "metadata": {},
   "source": [
    "The Perceptron is typically slow and not very flexible. With a large dataset it takes a long time to reach a solution. Altough it is simple to implement, it isn't very good and isn't used much. We'll do one more  classifier to compare the two.\n",
    "\n",
    "## Naïve Bayes \n",
    "\n",
    "We'll now try the Naïve Bayes classifier. If you are interested in *how* the classifier works, I suggest either [this tutorial](http://www.cs.ucr.edu/~eamonn/CE/Bayesian%20Classification%20withInsect_examples.pdf) or reading the [Wikipedia page.](https://en.wikipedia.org/wiki/Naive_Bayes_classifier). We'll stick to the application and evaluation of the model. One of the advantages of the Naïve Bayes classifier is that it isn't fixed to a linear decision boundary. That means we can account for curved boundaries and maybe do a little bit better than the Perceptron.\n",
    "\n",
    "We use the same set of training/testing features and labels as we used with the Perceptron. That will give us a head-to-head comparison between the two models."
   ]
  },
  {
   "cell_type": "code",
   "execution_count": null,
   "metadata": {
    "collapsed": false
   },
   "outputs": [],
   "source": [
    "from sklearn.naive_bayes import GaussianNB\n",
    "nb_model = GaussianNB()\n",
    "nb_model.fit(features_train, labels_train)\n",
    "\n",
    "# Plot the decision boundary\n",
    "Zpred = pd.Series(nb_model.predict(np.c_[xx.ravel(), yy.ravel()]), dtype='category').cat.codes.values\n",
    "Z = Zpred.reshape(xx.shape)\n",
    "lm = sns.lmplot(x='Grade', y='Bumpiness', data=test, hue='Speed', fit_reg=False)\n",
    "sns.despine(ax=lm.ax, top=False, right=False)\n",
    "plt.pcolormesh(xx, yy, Z, cmap= plt.cm.cool, alpha=0.1)\n",
    "\n",
    "# Plot the confusion matrix\n",
    "y_pred_nb = nb_model.predict(features_test)\n",
    "cnf_matrix_nb = confusion_matrix(labels_test, y_pred_nb,labels=class_labels)\n",
    "show_confusion_matrix(cnf_matrix_nb, class_labels)"
   ]
  },
  {
   "cell_type": "markdown",
   "metadata": {},
   "source": [
    "There are a couple of things to note here: first: the decision boundary is curved! However, it is a fairly simple curve in that it doesn't wiggle very much - it is a smooth arc. This is related to the class Learning Principle of Occam's Razor. A straight-line is the simplest possible decision boundary and, therefore, is valued highly from the perspective of keeping the model as simple as possible. A smooth curve is slightly more complicated, but still fairly simple. The question is: do we gain out-of-sample performance by adding in the complexity of making the decision boundary curve? \n",
    "\n",
    "That brings us to the second point: the confusion matrix now shows us that we have mis-classified 17 points. We compare that to the Perceptron model where we mis-classified 20 points. So we've done a little bit better in terms of out-of-sample performance, which is good. Let's take a look at the other metrics to see how they compare."
   ]
  },
  {
   "cell_type": "code",
   "execution_count": null,
   "metadata": {
    "collapsed": false
   },
   "outputs": [],
   "source": [
    "recall_score = metrics.recall_score(labels_test, y_pred_nb,labels=class_labels,average=None)\n",
    "prec_score = metrics.precision_score(labels_test, y_pred_nb,labels=class_labels,average=None)\n",
    "f1_score = metrics.f1_score(labels_test, y_pred_nb,labels=class_labels,average=None)\n",
    "\n",
    "acc_score = metrics.accuracy_score(labels_test, y_pred_nb)\n",
    "matt_score = metrics.matthews_corrcoef(labels_test, y_pred_nb)\n",
    "\n",
    "print(\"Class-dependent Metrics\")\n",
    "print(\"Sensitivity/Recall Score: {}\".format(recall_score))\n",
    "\n",
    "print(\"Precision Score: {}\".format(prec_score))\n",
    "print(\"F1 Score: {}\".format(f1_score))\n",
    "\n",
    "print(\"\\nClass-independent Metrics\")\n",
    "print(\"Accuracy Score: {}\".format(acc_score))\n",
    "print(\"Matthews Correlation Coefficient (MCC): {}\".format(matt_score))"
   ]
  },
  {
   "cell_type": "markdown",
   "metadata": {},
   "source": [
    "Almost across the board, the Naïve Bayes classifier does a little bit better than the Perceptron classifier. It isn't a huge difference, though. \n",
    "\n",
    "On the other hand, the Naïve Bayes classifier is a faster algorithm and handles large datasets better. It also gives us one additional piece of information that can be useful: it will tell us the prediction probabilities for each test point. That will give us access to another metric that can be useful.\n",
    "\n",
    "### Prediction Probabilities\n",
    "\n",
    "When we make a prediction on one of the test features, the Naïve Bayes classifier will not only tell us its prediction for what the label should be, it will also tell us with what probability it thinks that label is correct. For example, we input in the following values to get the prediction."
   ]
  },
  {
   "cell_type": "code",
   "execution_count": null,
   "metadata": {
    "collapsed": false
   },
   "outputs": [],
   "source": [
    "print(\"Input values: {}\".format(features_test[0]))\n",
    "print(\"Prediction: {}\".format(nb_model.predict([features_test[0]])))"
   ]
  },
  {
   "cell_type": "markdown",
   "metadata": {},
   "source": [
    "How confident is the model of that prediction? Let's get the prediction proabilities for that point."
   ]
  },
  {
   "cell_type": "code",
   "execution_count": null,
   "metadata": {
    "collapsed": false
   },
   "outputs": [],
   "source": [
    "print(\"Prediction Probabilities: {}\".format(nb_model.predict_proba([features_test[0]])))"
   ]
  },
  {
   "cell_type": "markdown",
   "metadata": {},
   "source": [
    "So, we can see that, for this point, the model outputs a 68% chance that the point should be classified as \"fast\" and, therefore, a 32% chance that it is \"slow\". We can plot the confidence intervals for these points to show how the model is mapping input values to output values. (Note: there may be a pandas warning... it doesn't appear to affect the outcome, so don't worry about it.)"
   ]
  },
  {
   "cell_type": "code",
   "execution_count": null,
   "metadata": {
    "collapsed": false
   },
   "outputs": [],
   "source": [
    "#first, get all the predictions\n",
    "y_proba_nb = nb_model.predict_proba(features_test)\n",
    "\n",
    "test['fastprob'] = y_proba_nb[:,0]\n",
    "\n",
    "cm = plt.cm.get_cmap('YlGn')\n",
    "sc = plt.scatter(x=test['Grade'], y=test['Bumpiness'], c=test['fastprob'] , vmin=0, vmax=1, s=35, cmap=cm)\n",
    "cbr = plt.colorbar(sc)\n",
    "cbr.set_label('Probability of \"fast\"')\n",
    "plt.xlabel('Grade')\n",
    "plt.xlabel('Bumpiess')"
   ]
  },
  {
   "cell_type": "markdown",
   "metadata": {},
   "source": [
    "So we see that the model has a pretty high probabily of getting the label correct in both corners, but closer to the decision boundary the probability of each label approaches the midpoint of 50%.\n",
    "\n",
    "### Logloss Metric\n",
    "\n",
    "We've got one more metric we can use for models that give us access to the prediction probabilities. This metric has the property that if all the points are correctly predicted, it will be 0.0. The closer to zero you are, the better the model is doing at predicting the correct outcomes. It is a class-independent metric and works for models with more than two classes, too."
   ]
  },
  {
   "cell_type": "code",
   "execution_count": null,
   "metadata": {
    "collapsed": false
   },
   "outputs": [],
   "source": [
    "logloss = metrics.log_loss(labels_test, y_proba_nb)\n",
    "print(\"Log loss: {}\".format(logloss))"
   ]
  },
  {
   "cell_type": "markdown",
   "metadata": {},
   "source": [
    "# Assignment\n",
    "\n",
    "You assignment this week is to run through both the Perceptron and the Naïve Bayes classifiers with your classification data. Evaluate both models using each of the metrics we've learned about and compare the performance of the models.\n",
    "\n",
    "If you find that the model fit is taking a long time, you should note that in your assignment as well. How long a model takes to learn is an important parameter. There is a simple way of timing the model performance. We'll run both models again and compare their timing. For the small number of data points we have in this dataset, the timing isn't very different. That may not be the case for your models."
   ]
  },
  {
   "cell_type": "code",
   "execution_count": null,
   "metadata": {
    "collapsed": false
   },
   "outputs": [],
   "source": [
    "import time\n",
    "# Perceptron Model\n",
    "start1 = time.process_time()\n",
    "model2.fit(features_train,labels_train)\n",
    "stop1 = time.process_time()\n",
    "print(\"Elapsed time: {} seconds\".format(stop1-start1))"
   ]
  },
  {
   "cell_type": "code",
   "execution_count": null,
   "metadata": {
    "collapsed": false
   },
   "outputs": [],
   "source": [
    "# Naïve Bayes model\n",
    "start2 = time.process_time()\n",
    "nb_model.fit(features_train,labels_train)\n",
    "stop2 = time.process_time()\n",
    "print(\"Elapsed time: {} seconds\".format(stop2-start2))"
   ]
  }
 ],
 "metadata": {
  "kernelspec": {
   "display_name": "Anaconda (Python 3)",
   "language": "python",
   "name": "anaconda3"
  },
  "language_info": {
   "codemirror_mode": {
    "name": "ipython",
    "version": 3
   },
   "file_extension": ".py",
   "mimetype": "text/x-python",
   "name": "python",
   "nbconvert_exporter": "python",
   "pygments_lexer": "ipython3",
   "version": "3.5.2"
  }
 },
 "nbformat": 4,
 "nbformat_minor": 0
}
